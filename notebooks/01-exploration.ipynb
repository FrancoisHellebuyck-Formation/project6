{
 "cells": [
  {
   "cell_type": "markdown",
   "id": "a3f24db9",
   "metadata": {},
   "source": [
    "# ⚙️ Initiez-vous au MLOps (partie 1/2)\n",
    "\n",
    "## 📊 Analyse exploratoire\n",
    "### 🛠️ Préparez l'environnement de travail\n",
    "#### 📦 Import des modules python"
   ]
  },
  {
   "cell_type": "code",
   "execution_count": 9,
   "id": "e3c5042b",
   "metadata": {},
   "outputs": [
    {
     "name": "stdout",
     "output_type": "stream",
     "text": [
      "\n",
      "┌-------------------------------* Information *-------------------------------┐\n",
      "├─------- Shape: (4455, 16) - Colonnes:\n",
      "├─GENDER                    int64     \n",
      "├─AGE                       int64     \n",
      "├─SMOKING                   int64     \n",
      "├─YELLOW_FINGERS            int64     \n",
      "├─ANXIETY                   int64     \n",
      "├─PEER_PRESSURE             int64     \n",
      "├─CHRONIC DISEASE           int64     \n",
      "├─FATIGUE                   int64     \n",
      "├─ALLERGY                   int64     \n",
      "├─WHEEZING                  int64     \n",
      "├─ALCOHOL CONSUMING         int64     \n",
      "├─COUGHING                  int64     \n",
      "├─SHORTNESS OF BREATH       int64     \n",
      "├─SWALLOWING DIFFICULTY     int64     \n",
      "├─CHEST PAIN                int64     \n",
      "├─LUNG_CANCER               int64     \n",
      "└------------------------------------------------------------------------------┘\n"
     ]
    }
   ],
   "source": [
    "import sys\n",
    "import os\n",
    "sys.path.append(os.path.dirname(os.path.dirname(os.path.abspath('__file__'))))\n",
    "\n",
    "import pandas as pd\n",
    "from src.visualization.visu_text import quick_df_info\n",
    "\n",
    "df = pd.read_csv(\"../data/processed/survey_lung_cancer_clean.csv\")\n",
    "quick_df_info(df)"
   ]
  },
  {
   "cell_type": "markdown",
   "id": "054fa7aa",
   "metadata": {},
   "source": [
    "## 🔍 Exploration des données"
   ]
  },
  {
   "cell_type": "markdown",
   "id": "26f49c64",
   "metadata": {},
   "source": [
    "### 🔬 Analyse Univariée\n",
    "#### 📖 Complétude"
   ]
  },
  {
   "cell_type": "code",
   "execution_count": 10,
   "id": "59cf876b",
   "metadata": {},
   "outputs": [
    {
     "name": "stdout",
     "output_type": "stream",
     "text": [
      "✅ Aucune valeur manquante détectée !\n",
      "<class 'pandas.core.frame.DataFrame'>\n",
      "RangeIndex: 4455 entries, 0 to 4454\n",
      "Data columns (total 16 columns):\n",
      " #   Column                 Non-Null Count  Dtype\n",
      "---  ------                 --------------  -----\n",
      " 0   GENDER                 4455 non-null   int64\n",
      " 1   AGE                    4455 non-null   int64\n",
      " 2   SMOKING                4455 non-null   int64\n",
      " 3   YELLOW_FINGERS         4455 non-null   int64\n",
      " 4   ANXIETY                4455 non-null   int64\n",
      " 5   PEER_PRESSURE          4455 non-null   int64\n",
      " 6   CHRONIC DISEASE        4455 non-null   int64\n",
      " 7   FATIGUE                4455 non-null   int64\n",
      " 8   ALLERGY                4455 non-null   int64\n",
      " 9   WHEEZING               4455 non-null   int64\n",
      " 10  ALCOHOL CONSUMING      4455 non-null   int64\n",
      " 11  COUGHING               4455 non-null   int64\n",
      " 12  SHORTNESS OF BREATH    4455 non-null   int64\n",
      " 13  SWALLOWING DIFFICULTY  4455 non-null   int64\n",
      " 14  CHEST PAIN             4455 non-null   int64\n",
      " 15  LUNG_CANCER            4455 non-null   int64\n",
      "dtypes: int64(16)\n",
      "memory usage: 557.0 KB\n"
     ]
    }
   ],
   "source": [
    "total_missing = df.isnull().sum().sum()\n",
    "if total_missing == 0:\n",
    "    print(\"✅ Aucune valeur manquante détectée !\")\n",
    "else:\n",
    "    print(f\"⚠️  {total_missing} valeur(s) manquante(s) détectée(s)\")\n",
    "\n",
    "df.info()"
   ]
  },
  {
   "cell_type": "code",
   "execution_count": null,
   "id": "4eb46cdd",
   "metadata": {},
   "outputs": [],
   "source": []
  }
 ],
 "metadata": {
  "kernelspec": {
   "display_name": "project6",
   "language": "python",
   "name": "python3"
  },
  "language_info": {
   "codemirror_mode": {
    "name": "ipython",
    "version": 3
   },
   "file_extension": ".py",
   "mimetype": "text/x-python",
   "name": "python",
   "nbconvert_exporter": "python",
   "pygments_lexer": "ipython3",
   "version": "3.13.5"
  }
 },
 "nbformat": 4,
 "nbformat_minor": 5
}
