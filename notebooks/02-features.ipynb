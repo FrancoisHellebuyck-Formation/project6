{
 "cells": [
  {
   "cell_type": "markdown",
   "id": "640f2f8d",
   "metadata": {},
   "source": [
    "# ⚙️ Initiez-vous au MLOps (partie 1/2)\n",
    "\n",
    "## 📐Features engineering\n",
    "### 🛠️ Préparez l'environnement de travail\n",
    "#### 📦 Import des modules python"
   ]
  },
  {
   "cell_type": "code",
   "execution_count": null,
   "id": "e293f965",
   "metadata": {},
   "outputs": [],
   "source": [
    "import pandas as pd\n",
    "import numpy as np\n",
    "from src.visualization.visu_text import *\n",
    "df = pd.read_csv(\"../data/processed/survey_lung_cancer_clean.csv\")\n"
   ]
  },
  {
   "cell_type": "code",
   "execution_count": null,
   "id": "ed668541",
   "metadata": {},
   "outputs": [],
   "source": []
  },
  {
   "cell_type": "markdown",
   "id": "0ff853a5",
   "metadata": {},
   "source": [
    "# Interactions entre facteurs de risque\n",
    "df['SMOKING_x_AGE'] = df['SMOKING'] * df['AGE']\n",
    "df['SMOKING_x_YELLOW_FINGERS'] = df['SMOKING'] * df['YELLOW_FINGERS']\n",
    "df['SMOKING_x_CHRONIC_DISEASE'] = df['SMOKING'] * df['CHRONIC DISEASE']\n",
    "\n",
    "# Combinaison tabac + alcool (risque multiplié)\n",
    "df['SMOKING_x_ALCOHOL'] = df['SMOKING'] * df['ALCOHOL CONSUMING']\n",
    "\n",
    "# Symptômes respiratoires combinés\n",
    "df['RESPIRATORY_SYMPTOMS'] = (df['WHEEZING'] + df['COUGHING'] + \n",
    "                               df['SHORTNESS OF BREATH']).clip(0, 3)\n",
    "\n",
    "# Score de symptômes totaux\n",
    "df['TOTAL_SYMPTOMS'] = (df['YELLOW_FINGERS'] + df['ANXIETY'] + \n",
    "                        df['FATIGUE '] + df['ALLERGY '] + df['WHEEZING'] + \n",
    "                        df['COUGHING'] + df['SHORTNESS OF BREATH'] + \n",
    "                        df['SWALLOWING DIFFICULTY'] + df['CHEST PAIN'])\n",
    "\n",
    "# Score de facteurs de risque comportementaux\n",
    "df['BEHAVIORAL_RISK_SCORE'] = (df['SMOKING'] + df['ALCOHOL CONSUMING'] + \n",
    "                                df['PEER_PRESSURE'])\n",
    "\n",
    "# Score de symptômes graves\n",
    "df['SEVERE_SYMPTOMS'] = (df['CHEST PAIN'] + df['SWALLOWING DIFFICULTY'] + \n",
    "                          df['SHORTNESS OF BREATH'])\n",
    "\n",
    "# Catégories d'âge\n",
    "df['AGE_GROUP'] = pd.cut(df['AGE'], bins=[0, 50, 60, 70, 100], \n",
    "                         labels=['<50', '50-60', '60-70', '70+'])\n",
    "\n",
    "# Risque élevé : homme + fumeur + âge > 60\n",
    "df['HIGH_RISK_PROFILE'] = ((df['GENDER'] == 1) & \n",
    "                            (df['SMOKING'] == 1) & \n",
    "                            (df['AGE'] > 60)).astype(int)\n",
    "\n",
    "# Âge au carré (relation non-linéaire)\n",
    "df['AGE_SQUARED'] = df['AGE'] ** 2\n",
    "\n",
    "# Triade classique du cancer du poumon\n",
    "df['CANCER_TRIAD'] = ((df['COUGHING'] == 1) & \n",
    "                      (df['CHEST PAIN'] == 1) & \n",
    "                      (df['SHORTNESS OF BREATH'] == 1)).astype(int)\n",
    "\n",
    "# Fumeur avec symptômes respiratoires\n",
    "df['SMOKER_WITH_RESP_SYMPTOMS'] = (df['SMOKING'] * df['RESPIRATORY_SYMPTOMS'])\n",
    "\n",
    "# Symptômes avancés (dysphagie + douleur thoracique)\n",
    "df['ADVANCED_SYMPTOMS'] = (df['SWALLOWING DIFFICULTY'] * df['CHEST PAIN'])\n",
    "\n",
    "# Ratio symptômes / âge (normalisation)\n",
    "df['SYMPTOMS_PER_AGE'] = df['TOTAL_SYMPTOMS'] / (df['AGE'] + 1)\n",
    "\n",
    "# Proportion de symptômes respiratoires\n",
    "df['RESP_SYMPTOM_RATIO'] = df['RESPIRATORY_SYMPTOMS'] / (df['TOTAL_SYMPTOMS'] + 1)\n",
    "\n",
    "🎯 Features prioritaires (top 10)\n",
    "\n",
    "SMOKING_x_AGE - Risque augmente exponentiellement avec l'âge\n",
    "RESPIRATORY_SYMPTOMS - Agrégation des 3 symptômes clés\n",
    "TOTAL_SYMPTOMS - Vue d'ensemble de la santé\n",
    "HIGH_RISK_PROFILE - Profil démographique à risque\n",
    "CANCER_TRIAD - Les 3 symptômes classiques ensemble\n",
    "SMOKER_WITH_RESP_SYMPTOMS - Interaction critique\n",
    "SMOKING_x_ALCOHOL - Facteurs de risque combinés\n",
    "SEVERE_SYMPTOMS - Indicateur de gravité\n",
    "AGE_SQUARED - Capture la non-linéarité\n",
    "BEHAVIORAL_RISK_SCORE - Facteurs comportementaux\n",
    "\n"
   ]
  }
 ],
 "metadata": {
  "language_info": {
   "name": "python"
  }
 },
 "nbformat": 4,
 "nbformat_minor": 5
}
