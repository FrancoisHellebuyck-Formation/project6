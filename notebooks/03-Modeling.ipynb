{
 "cells": [
  {
   "cell_type": "markdown",
   "id": "fde38ca2",
   "metadata": {},
   "source": [
    "# ⚙️ Initiez-vous au MLOps (partie 1/2)\n",
    "\n",
    "## 🤖 Modélisation\n",
    "### 🛠️ Préparez l'environnement de travail\n",
    "#### 📦 Import des modules python"
   ]
  },
  {
   "cell_type": "code",
   "execution_count": 38,
   "id": "cdf8793b",
   "metadata": {},
   "outputs": [],
   "source": [
    "import os\n",
    "import shutil\n",
    "import sys\n",
    "import mlflow\n",
    "import warnings\n",
    "import logging\n",
    "\n",
    "sys.path.append(os.path.dirname(os.path.dirname(os.path.abspath('__file__'))))\n",
    "os.unsetenv('MLFLOW_TRACKING_URI')\n",
    "os.unsetenv('MLFLOW_HOME')\n",
    "\n",
    "# Réduire le niveau de verbosité de MLflow\n",
    "logging.getLogger('mlflow').setLevel(logging.ERROR)\n",
    "\n",
    "import pyarrow\n",
    "import pandas as pd\n",
    "import numpy as np\n",
    "from src.visualization.visu_text import print_title, print_end, print_col, quick_df_info\n",
    "from sklearn.model_selection import (\n",
    "    train_test_split,\n",
    "    GridSearchCV\n",
    ")\n",
    "from imblearn.pipeline import Pipeline as ImbPipeline\n",
    "from imblearn.over_sampling import SMOTE\n",
    "from sklearn.preprocessing import StandardScaler\n",
    "from sklearn.dummy import DummyClassifier\n",
    "from sklearn.linear_model import LogisticRegression\n",
    "from sklearn.ensemble import RandomForestClassifier\n",
    "import xgboost as xgb\n",
    "import lightgbm as lgb\n",
    "from imblearn.over_sampling import SMOTE\n",
    "from sklearn.metrics import classification_report\n",
    "\n",
    "\n",
    "from src.models.modelization import (\n",
    "    print_report,\n",
    "    print_cross_validation_scores,\n",
    ")"
   ]
  },
  {
   "cell_type": "markdown",
   "id": "e88c75cf",
   "metadata": {},
   "source": [
    "### Préparation du jeu de données"
   ]
  },
  {
   "cell_type": "code",
   "execution_count": 39,
   "id": "c9ac6c31",
   "metadata": {},
   "outputs": [
    {
     "name": "stdout",
     "output_type": "stream",
     "text": [
      "\n",
      "┌-------------------------------* Information *-------------------------------┐\n",
      "├─------- Shape: (17940, 31) - Colonnes:\n",
      "├─ID                        int64     \n",
      "├─GENDER                    int64     \n",
      "├─AGE                       float64   \n",
      "├─LUNG_CANCER               int64     \n",
      "├─SMOKING                   int64     \n",
      "├─YELLOW_FINGERS            int64     \n",
      "├─ANXIETY                   int64     \n",
      "├─PEER_PRESSURE             int64     \n",
      "├─CHRONIC DISEASE           int64     \n",
      "├─FATIGUE                   int64     \n",
      "├─ALLERGY                   int64     \n",
      "├─WHEEZING                  int64     \n",
      "├─ALCOHOL CONSUMING         int64     \n",
      "├─COUGHING                  int64     \n",
      "├─SHORTNESS OF BREATH       int64     \n",
      "├─SWALLOWING DIFFICULTY     int64     \n",
      "├─CHEST PAIN                int64     \n",
      "├─SMOKING_x_AGE             float64   \n",
      "├─SMOKING_x_ALCOHOL         int64     \n",
      "├─RESPIRATORY_SYMPTOMS      int64     \n",
      "├─TOTAL_SYMPTOMS            int64     \n",
      "├─BEHAVIORAL_RISK_SCORE     int64     \n",
      "├─SEVERE_SYMPTOMS           int64     \n",
      "├─AGE_GROUP                 int8      \n",
      "├─HIGH_RISK_PROFILE         int64     \n",
      "├─AGE_SQUARED               float64   \n",
      "├─CANCER_TRIAD              int64     \n",
      "├─SMOKER_WITH_RESP_SYMPTOMS int64     \n",
      "├─ADVANCED_SYMPTOMS         int64     \n",
      "├─SYMPTOMS_PER_AGE          float64   \n",
      "├─RESP_SYMPTOM_RATIO        float64   \n",
      "└------------------------------------------------------------------------------┘\n"
     ]
    }
   ],
   "source": [
    "df = pd.read_parquet(\"../data/processed/survey_lung_cancer_features.parquet\", engine='pyarrow')\n",
    "# Conversion des colonnes booléennes en int pour compatibilité avec certains modèles\n",
    "bool_cols = df.select_dtypes(include=['bool', 'boolean']).columns\n",
    "df[bool_cols] = df[bool_cols].astype(int)\n",
    "# Conversion des colonnes catégorielles en codes numériques\n",
    "cat_cols = df.select_dtypes(include=['category']).columns\n",
    "df[cat_cols] = df[cat_cols].apply(lambda x: x.cat.codes)\n",
    "\n",
    "quick_df_info(df)"
   ]
  },
  {
   "cell_type": "markdown",
   "id": "2fad1f66",
   "metadata": {},
   "source": [
    "### ⛓️‍💥 Separation du jeu de données"
   ]
  },
  {
   "cell_type": "code",
   "execution_count": 40,
   "id": "1d02176d",
   "metadata": {},
   "outputs": [
    {
     "name": "stdout",
     "output_type": "stream",
     "text": [
      "\n",
      "┌------------------* Données originales: 17940 échantillons *------------------┐\n",
      "├─Distribution: Classe 0: 2319, Classe 1: 15621\n",
      "├─Proportion classe 1: 87.1%\n",
      "└------------------------------------------------------------------------------┘\n",
      "\n",
      "┌---------------------------* RÉPARTITION FINALE: *---------------------------┐\n",
      "├─ Train:      10764 échantillons (60.0%)\n",
      "├─ Validation: 3588 échantillons (20.0%)\n",
      "├─Test:       3588 échantillons (20.0%)\n",
      "└------------------------------------------------------------------------------┘\n",
      "\n",
      "┌-----------------------* VÉRIFICATION STRATIFICATION: *-----------------------┐\n",
      "├─ Original    - Classe 1: 87.1%\n",
      "├─ Train       - Classe 1: 87.1%\n",
      "├─ Validation  - Classe 1: 87.1%\n",
      "├─ Test        - Classe 1: 87.1%\n",
      "└------------------------------------------------------------------------------┘\n",
      "\n",
      "┌-------------------------------* Information *-------------------------------┐\n",
      "├─------- Shape: (10764, 30) - Colonnes:\n",
      "├─ID                        int64     \n",
      "├─GENDER                    int64     \n",
      "├─AGE                       float64   \n",
      "├─SMOKING                   int64     \n",
      "├─YELLOW_FINGERS            int64     \n",
      "├─ANXIETY                   int64     \n",
      "├─PEER_PRESSURE             int64     \n",
      "├─CHRONIC DISEASE           int64     \n",
      "├─FATIGUE                   int64     \n",
      "├─ALLERGY                   int64     \n",
      "├─WHEEZING                  int64     \n",
      "├─ALCOHOL CONSUMING         int64     \n",
      "├─COUGHING                  int64     \n",
      "├─SHORTNESS OF BREATH       int64     \n",
      "├─SWALLOWING DIFFICULTY     int64     \n",
      "├─CHEST PAIN                int64     \n",
      "├─SMOKING_x_AGE             float64   \n",
      "├─SMOKING_x_ALCOHOL         int64     \n",
      "├─RESPIRATORY_SYMPTOMS      int64     \n",
      "├─TOTAL_SYMPTOMS            int64     \n",
      "├─BEHAVIORAL_RISK_SCORE     int64     \n",
      "├─SEVERE_SYMPTOMS           int64     \n",
      "├─AGE_GROUP                 int8      \n",
      "├─HIGH_RISK_PROFILE         int64     \n",
      "├─AGE_SQUARED               float64   \n",
      "├─CANCER_TRIAD              int64     \n",
      "├─SMOKER_WITH_RESP_SYMPTOMS int64     \n",
      "├─ADVANCED_SYMPTOMS         int64     \n",
      "├─SYMPTOMS_PER_AGE          float64   \n",
      "├─RESP_SYMPTOM_RATIO        float64   \n",
      "└------------------------------------------------------------------------------┘\n"
     ]
    }
   ],
   "source": [
    "# ================================\n",
    "# SÉPARATION TRAIN / VALIDATION / TEST\n",
    "# ================================\n",
    "\n",
    "y = df[\"LUNG_CANCER\"]\n",
    "X = df.drop(columns=[\"LUNG_CANCER\"])\n",
    "\n",
    "print_title(f\"Données originales: {X.shape[0]} échantillons\")\n",
    "print_col(f\"Distribution: Classe 0: {(y == 0).sum()}, Classe 1: {(y == 1).sum()}\")\n",
    "print_col(f\"Proportion classe 1: {(y == 1).mean()*100:.1f}%\")\n",
    "print_end()\n",
    "\n",
    "# Étape 1: Séparer train+val (80%) / test (20%)\n",
    "X_temp, X_test, y_temp, y_test = train_test_split(\n",
    "    X,\n",
    "    y,\n",
    "    test_size=0.2,  # 20% pour test\n",
    "    random_state=42,\n",
    "    stratify=y,  # Garde la même proportion de classes\n",
    ")\n",
    "\n",
    "# Étape 2: Séparer train (60%) / validation (20%)\n",
    "X_train, X_val, y_train, y_val = train_test_split(\n",
    "    X_temp,\n",
    "    y_temp,\n",
    "    test_size=0.25,  # 25% de 80% = 20% du total\n",
    "    random_state=42,\n",
    "    stratify=y_temp,\n",
    ")\n",
    "\n",
    "# ================================\n",
    "# VÉRIFICATION DES PROPORTIONS\n",
    "# ================================\n",
    "\n",
    "total = len(X)\n",
    "print_title(\"RÉPARTITION FINALE:\")\n",
    "print_col(f\" Train:      {len(X_train)} échantillons ({len(X_train)/total*100:.1f}%)\")\n",
    "print_col(f\" Validation: {len(X_val)} échantillons ({len(X_val)/total*100:.1f}%)\")\n",
    "print_col(f\"Test:       {len(X_test)} échantillons ({len(X_test)/total*100:.1f}%)\")\n",
    "print_end()\n",
    "\n",
    "print_title(\"VÉRIFICATION STRATIFICATION:\")\n",
    "print_col(f\" Original    - Classe 1: {(y == 1).mean()*100:.1f}%\")\n",
    "print_col(f\" Train       - Classe 1: {(y_train == 1).mean()*100:.1f}%\")\n",
    "print_col(f\" Validation  - Classe 1: {(y_val == 1).mean()*100:.1f}%\")\n",
    "print_col(f\" Test        - Classe 1: {(y_test == 1).mean()*100:.1f}%\")\n",
    "print_end()\n",
    "\n",
    "quick_df_info(X_train)"
   ]
  },
  {
   "cell_type": "markdown",
   "id": "ece4384f",
   "metadata": {},
   "source": [
    "### 🤖 Baseline\n",
    "#### ➡️ Choix des modèles :\n",
    "- DummyClassifier\n",
    "- LogisticRegression\n",
    "- RandomForestClassifier\n",
    "- XGBClassifier\n",
    "- LGBMClassifier\n"
   ]
  },
  {
   "cell_type": "code",
   "execution_count": 41,
   "id": "7404140f",
   "metadata": {},
   "outputs": [],
   "source": [
    "dummy_pipeline = ImbPipeline([ \n",
    "    ('oversampling', SMOTE(random_state=42)),\n",
    "    ('scaling', StandardScaler()),\n",
    "    ('model', DummyClassifier(random_state=42)) \n",
    "])\n",
    "rl_pipeline = ImbPipeline([ \n",
    "    ('oversampling', SMOTE(random_state=42)),\n",
    "    ('scaling', StandardScaler()),\n",
    "    ('model', LogisticRegression(random_state=42)) \n",
    "])\n",
    "rf_pipeline = ImbPipeline([ \n",
    "    ('oversampling', SMOTE(random_state=42)),\n",
    "    ('model', RandomForestClassifier(random_state=42)) \n",
    "])\n",
    "xgb_pipeline = ImbPipeline([\n",
    "    ('oversampling', SMOTE(random_state=42)),\n",
    "    ('model', xgb.XGBClassifier(random_state=42))\n",
    "])\n",
    "lgb_pipeline = ImbPipeline([\n",
    "    ('oversampling', SMOTE(random_state=42)),\n",
    "    ('model', lgb.LGBMClassifier(\n",
    "        random_state=42,\n",
    "        verbose=-1  # Désactiver les warnings\n",
    "    ))\n",
    "])\n",
    "\n",
    "models_pipelines = {\n",
    "    \"Dummy\": dummy_pipeline,\n",
    "    \"Logistic Regression\": rl_pipeline,\n",
    "    \"Random Forest\": rf_pipeline,\n",
    "    \"XGBoost\": xgb_pipeline,\n",
    "    \"LightGBM\": lgb_pipeline\n",
    "}\n"
   ]
  },
  {
   "cell_type": "markdown",
   "id": "4e1a20f3",
   "metadata": {},
   "source": []
  },
  {
   "cell_type": "code",
   "execution_count": 42,
   "id": "d2d79e8a",
   "metadata": {},
   "outputs": [],
   "source": [
    "mlflow.set_tracking_uri('http://127.0.0.1:5010')\n",
    "mlflow.xgboost.autolog(disable=True)\n",
    "mlflow.lightgbm.autolog(disable=True)\n",
    "mlflow.autolog(disable=True) # Désactivation de l'autologging pour éviter les conflits"
   ]
  },
  {
   "cell_type": "code",
   "execution_count": null,
   "id": "cdf4268c",
   "metadata": {},
   "outputs": [
    {
     "name": "stderr",
     "output_type": "stream",
     "text": [
      "/Users/francoishellebuyck/Documents/projects/openclassrooms/project6/.venv/lib/python3.13/site-packages/mlflow/data/dataset_source_registry.py:148: UserWarning: Failed to determine whether UCVolumeDatasetSource can resolve source information for 'data/processed/survey_lung_cancer_features.parquet'. Exception: \n",
      "  return _dataset_source_registry.resolve(\n",
      "/Users/francoishellebuyck/Documents/projects/openclassrooms/project6/.venv/lib/python3.13/site-packages/mlflow/data/dataset_source_registry.py:148: UserWarning: The specified dataset source can be interpreted in multiple ways: LocalArtifactDatasetSource, LocalArtifactDatasetSource. MLflow will assume that this is a LocalArtifactDatasetSource source.\n",
      "  return _dataset_source_registry.resolve(\n",
      "/Users/francoishellebuyck/Documents/projects/openclassrooms/project6/.venv/lib/python3.13/site-packages/mlflow/types/utils.py:452: UserWarning: Hint: Inferred schema contains integer column(s). Integer columns in Python cannot represent missing values. If your input data contains missing values at inference time, it will be encoded as floats and will cause a schema enforcement error. The best way to avoid this problem is to infer the model schema based on a realistic data sample (training dataset) that includes missing values. Alternatively, you can declare integer columns as doubles (float64) whenever these columns may have missing values. See `Handling Integers With Missing Values <https://www.mlflow.org/docs/latest/models.html#handling-integers-with-missing-values>`_ for more details.\n",
      "  warnings.warn(\n"
     ]
    },
    {
     "name": "stdout",
     "output_type": "stream",
     "text": [
      "\n",
      "┌----------------------* Entraînement du modèle: Dummy *----------------------┐\n",
      "\n",
      "┌--------------------------* PERFORMANCE DU MODÈLE *--------------------------┐\n",
      "├─ Accuracy (Exactitude):       0.129 │ (TP+TN)/(TP+TN+FP+FN)\n",
      "├─ Precision (Précision):       0.000 │ TP/(TP+FP) | Minimiser les faux positifs. \n",
      "├─ Recall (Sensibilité):        0.000 │ TP/(TP+FN) | Minimiser les faux négatif. \n",
      "├─ F1-score:                    0.000 │ 2*Precision*Recall/(Precision+Recall)\n",
      "├─ F2-score:                    0.000 │ 5*Precision*Recall/(4*Precision+Recall) | Privilégie le rappel)\n",
      "└------------------------------------------------------------------------------┘\n",
      "\n",
      "┌---------------------------* MATRICE DE CONFUSION *---------------------------┐\n",
      "├─ RÉALITÉ \\ PRÉDICTION\n",
      "|                      Non         Oui\n",
      "|          Non         464           0\n",
      "|          Oui        3124           0\n",
      "|\n",
      "├─ Détail (classe positive = Oui):\n",
      "├─ ✅ Vrais Positifs (TP):  0\n",
      "├─ ❌ Faux Positifs (FP):   0\n",
      "├─ ❌ Faux Négatifs (FN):   3124\n",
      "├─ ✅ Vrais Négatifs (TN):  464\n",
      "└------------------------------------------------------------------------------┘\n",
      "└------------------------------------------------------------------------------┘\n",
      "🏃 View run Run Dummy at: http://127.0.0.1:5010/#/experiments/17/runs/795995afe13745dea6f6e442f7000118\n",
      "🧪 View experiment at: http://127.0.0.1:5010/#/experiments/17\n",
      "\n",
      "┌---------------* Entraînement du modèle: Logistic Regression *---------------┐\n"
     ]
    },
    {
     "name": "stderr",
     "output_type": "stream",
     "text": [
      "/Users/francoishellebuyck/Documents/projects/openclassrooms/project6/.venv/lib/python3.13/site-packages/mlflow/data/dataset_source_registry.py:148: UserWarning: Failed to determine whether UCVolumeDatasetSource can resolve source information for 'data/processed/survey_lung_cancer_features.parquet'. Exception: \n",
      "  return _dataset_source_registry.resolve(\n",
      "/Users/francoishellebuyck/Documents/projects/openclassrooms/project6/.venv/lib/python3.13/site-packages/mlflow/data/dataset_source_registry.py:148: UserWarning: The specified dataset source can be interpreted in multiple ways: LocalArtifactDatasetSource, LocalArtifactDatasetSource. MLflow will assume that this is a LocalArtifactDatasetSource source.\n",
      "  return _dataset_source_registry.resolve(\n",
      "/Users/francoishellebuyck/Documents/projects/openclassrooms/project6/.venv/lib/python3.13/site-packages/mlflow/types/utils.py:452: UserWarning: Hint: Inferred schema contains integer column(s). Integer columns in Python cannot represent missing values. If your input data contains missing values at inference time, it will be encoded as floats and will cause a schema enforcement error. The best way to avoid this problem is to infer the model schema based on a realistic data sample (training dataset) that includes missing values. Alternatively, you can declare integer columns as doubles (float64) whenever these columns may have missing values. See `Handling Integers With Missing Values <https://www.mlflow.org/docs/latest/models.html#handling-integers-with-missing-values>`_ for more details.\n",
      "  warnings.warn(\n"
     ]
    },
    {
     "name": "stdout",
     "output_type": "stream",
     "text": [
      "\n",
      "┌--------------------------* PERFORMANCE DU MODÈLE *--------------------------┐\n",
      "├─ Accuracy (Exactitude):       0.869 │ (TP+TN)/(TP+TN+FP+FN)\n",
      "├─ Precision (Précision):       0.871 │ TP/(TP+FP) | Minimiser les faux positifs. \n",
      "├─ Recall (Sensibilité):        0.997 │ TP/(TP+FN) | Minimiser les faux négatif. \n",
      "├─ F1-score:                    0.930 │ 2*Precision*Recall/(Precision+Recall)\n",
      "├─ F2-score:                    0.969 │ 5*Precision*Recall/(4*Precision+Recall) | Privilégie le rappel)\n",
      "└------------------------------------------------------------------------------┘\n",
      "\n",
      "┌---------------------------* MATRICE DE CONFUSION *---------------------------┐\n",
      "├─ RÉALITÉ \\ PRÉDICTION\n",
      "|                      Non         Oui\n",
      "|          Non           1         463\n",
      "|          Oui           8        3116\n",
      "|\n",
      "├─ Détail (classe positive = Oui):\n",
      "├─ ✅ Vrais Positifs (TP):  3116\n",
      "├─ ❌ Faux Positifs (FP):   463\n",
      "├─ ❌ Faux Négatifs (FN):   8\n",
      "├─ ✅ Vrais Négatifs (TN):  1\n",
      "└------------------------------------------------------------------------------┘\n",
      "└------------------------------------------------------------------------------┘\n",
      "🏃 View run Run Logistic Regression at: http://127.0.0.1:5010/#/experiments/17/runs/84beea95185a4c749a43bb3dea12b1f8\n",
      "🧪 View experiment at: http://127.0.0.1:5010/#/experiments/17\n"
     ]
    },
    {
     "name": "stderr",
     "output_type": "stream",
     "text": [
      "/Users/francoishellebuyck/Documents/projects/openclassrooms/project6/.venv/lib/python3.13/site-packages/mlflow/data/dataset_source_registry.py:148: UserWarning: Failed to determine whether UCVolumeDatasetSource can resolve source information for 'data/processed/survey_lung_cancer_features.parquet'. Exception: \n",
      "  return _dataset_source_registry.resolve(\n",
      "/Users/francoishellebuyck/Documents/projects/openclassrooms/project6/.venv/lib/python3.13/site-packages/mlflow/data/dataset_source_registry.py:148: UserWarning: The specified dataset source can be interpreted in multiple ways: LocalArtifactDatasetSource, LocalArtifactDatasetSource. MLflow will assume that this is a LocalArtifactDatasetSource source.\n",
      "  return _dataset_source_registry.resolve(\n",
      "/Users/francoishellebuyck/Documents/projects/openclassrooms/project6/.venv/lib/python3.13/site-packages/mlflow/types/utils.py:452: UserWarning: Hint: Inferred schema contains integer column(s). Integer columns in Python cannot represent missing values. If your input data contains missing values at inference time, it will be encoded as floats and will cause a schema enforcement error. The best way to avoid this problem is to infer the model schema based on a realistic data sample (training dataset) that includes missing values. Alternatively, you can declare integer columns as doubles (float64) whenever these columns may have missing values. See `Handling Integers With Missing Values <https://www.mlflow.org/docs/latest/models.html#handling-integers-with-missing-values>`_ for more details.\n",
      "  warnings.warn(\n"
     ]
    },
    {
     "name": "stdout",
     "output_type": "stream",
     "text": [
      "\n",
      "┌------------------* Entraînement du modèle: Random Forest *------------------┐\n",
      "\n",
      "┌--------------------------* PERFORMANCE DU MODÈLE *--------------------------┐\n",
      "├─ Accuracy (Exactitude):       0.859 │ (TP+TN)/(TP+TN+FP+FN)\n",
      "├─ Precision (Précision):       0.871 │ TP/(TP+FP) | Minimiser les faux positifs. \n",
      "├─ Recall (Sensibilité):        0.984 │ TP/(TP+FN) | Minimiser les faux négatif. \n",
      "├─ F1-score:                    0.924 │ 2*Precision*Recall/(Precision+Recall)\n",
      "├─ F2-score:                    0.959 │ 5*Precision*Recall/(4*Precision+Recall) | Privilégie le rappel)\n",
      "└------------------------------------------------------------------------------┘\n",
      "\n",
      "┌---------------------------* MATRICE DE CONFUSION *---------------------------┐\n",
      "├─ RÉALITÉ \\ PRÉDICTION\n",
      "|                      Non         Oui\n",
      "|          Non           8         456\n",
      "|          Oui          50        3074\n",
      "|\n",
      "├─ Détail (classe positive = Oui):\n",
      "├─ ✅ Vrais Positifs (TP):  3074\n",
      "├─ ❌ Faux Positifs (FP):   456\n",
      "├─ ❌ Faux Négatifs (FN):   50\n",
      "├─ ✅ Vrais Négatifs (TN):  8\n",
      "└------------------------------------------------------------------------------┘\n",
      "└------------------------------------------------------------------------------┘\n",
      "🏃 View run Run Random Forest at: http://127.0.0.1:5010/#/experiments/17/runs/0f367d99e17940cfa659382c7c637529\n",
      "🧪 View experiment at: http://127.0.0.1:5010/#/experiments/17\n"
     ]
    },
    {
     "name": "stderr",
     "output_type": "stream",
     "text": [
      "/Users/francoishellebuyck/Documents/projects/openclassrooms/project6/.venv/lib/python3.13/site-packages/mlflow/data/dataset_source_registry.py:148: UserWarning: Failed to determine whether UCVolumeDatasetSource can resolve source information for 'data/processed/survey_lung_cancer_features.parquet'. Exception: \n",
      "  return _dataset_source_registry.resolve(\n",
      "/Users/francoishellebuyck/Documents/projects/openclassrooms/project6/.venv/lib/python3.13/site-packages/mlflow/data/dataset_source_registry.py:148: UserWarning: The specified dataset source can be interpreted in multiple ways: LocalArtifactDatasetSource, LocalArtifactDatasetSource. MLflow will assume that this is a LocalArtifactDatasetSource source.\n",
      "  return _dataset_source_registry.resolve(\n",
      "/Users/francoishellebuyck/Documents/projects/openclassrooms/project6/.venv/lib/python3.13/site-packages/mlflow/types/utils.py:452: UserWarning: Hint: Inferred schema contains integer column(s). Integer columns in Python cannot represent missing values. If your input data contains missing values at inference time, it will be encoded as floats and will cause a schema enforcement error. The best way to avoid this problem is to infer the model schema based on a realistic data sample (training dataset) that includes missing values. Alternatively, you can declare integer columns as doubles (float64) whenever these columns may have missing values. See `Handling Integers With Missing Values <https://www.mlflow.org/docs/latest/models.html#handling-integers-with-missing-values>`_ for more details.\n",
      "  warnings.warn(\n"
     ]
    },
    {
     "name": "stdout",
     "output_type": "stream",
     "text": [
      "\n",
      "┌---------------------* Entraînement du modèle: XGBoost *---------------------┐\n",
      "\n",
      "┌--------------------------* PERFORMANCE DU MODÈLE *--------------------------┐\n",
      "├─ Accuracy (Exactitude):       0.855 │ (TP+TN)/(TP+TN+FP+FN)\n",
      "├─ Precision (Précision):       0.870 │ TP/(TP+FP) | Minimiser les faux positifs. \n",
      "├─ Recall (Sensibilité):        0.980 │ TP/(TP+FN) | Minimiser les faux négatif. \n",
      "├─ F1-score:                    0.922 │ 2*Precision*Recall/(Precision+Recall)\n",
      "├─ F2-score:                    0.956 │ 5*Precision*Recall/(4*Precision+Recall) | Privilégie le rappel)\n",
      "└------------------------------------------------------------------------------┘\n",
      "\n",
      "┌---------------------------* MATRICE DE CONFUSION *---------------------------┐\n",
      "├─ RÉALITÉ \\ PRÉDICTION\n",
      "|                      Non         Oui\n",
      "|          Non           6         458\n",
      "|          Oui          62        3062\n",
      "|\n",
      "├─ Détail (classe positive = Oui):\n",
      "├─ ✅ Vrais Positifs (TP):  3062\n",
      "├─ ❌ Faux Positifs (FP):   458\n",
      "├─ ❌ Faux Négatifs (FN):   62\n",
      "├─ ✅ Vrais Négatifs (TN):  6\n",
      "└------------------------------------------------------------------------------┘\n",
      "└------------------------------------------------------------------------------┘\n",
      "🏃 View run Run XGBoost at: http://127.0.0.1:5010/#/experiments/17/runs/4989a422f9ba4db2a4c3c6885361f679\n",
      "🧪 View experiment at: http://127.0.0.1:5010/#/experiments/17\n"
     ]
    },
    {
     "name": "stderr",
     "output_type": "stream",
     "text": [
      "/Users/francoishellebuyck/Documents/projects/openclassrooms/project6/.venv/lib/python3.13/site-packages/mlflow/data/dataset_source_registry.py:148: UserWarning: Failed to determine whether UCVolumeDatasetSource can resolve source information for 'data/processed/survey_lung_cancer_features.parquet'. Exception: \n",
      "  return _dataset_source_registry.resolve(\n",
      "/Users/francoishellebuyck/Documents/projects/openclassrooms/project6/.venv/lib/python3.13/site-packages/mlflow/data/dataset_source_registry.py:148: UserWarning: The specified dataset source can be interpreted in multiple ways: LocalArtifactDatasetSource, LocalArtifactDatasetSource. MLflow will assume that this is a LocalArtifactDatasetSource source.\n",
      "  return _dataset_source_registry.resolve(\n",
      "/Users/francoishellebuyck/Documents/projects/openclassrooms/project6/.venv/lib/python3.13/site-packages/mlflow/types/utils.py:452: UserWarning: Hint: Inferred schema contains integer column(s). Integer columns in Python cannot represent missing values. If your input data contains missing values at inference time, it will be encoded as floats and will cause a schema enforcement error. The best way to avoid this problem is to infer the model schema based on a realistic data sample (training dataset) that includes missing values. Alternatively, you can declare integer columns as doubles (float64) whenever these columns may have missing values. See `Handling Integers With Missing Values <https://www.mlflow.org/docs/latest/models.html#handling-integers-with-missing-values>`_ for more details.\n",
      "  warnings.warn(\n"
     ]
    },
    {
     "name": "stdout",
     "output_type": "stream",
     "text": [
      "\n",
      "┌---------------------* Entraînement du modèle: LightGBM *---------------------┐\n",
      "\n",
      "┌--------------------------* PERFORMANCE DU MODÈLE *--------------------------┐\n",
      "├─ Accuracy (Exactitude):       0.869 │ (TP+TN)/(TP+TN+FP+FN)\n",
      "├─ Precision (Précision):       0.871 │ TP/(TP+FP) | Minimiser les faux positifs. \n",
      "├─ Recall (Sensibilité):        0.997 │ TP/(TP+FN) | Minimiser les faux négatif. \n",
      "├─ F1-score:                    0.930 │ 2*Precision*Recall/(Precision+Recall)\n",
      "├─ F2-score:                    0.969 │ 5*Precision*Recall/(4*Precision+Recall) | Privilégie le rappel)\n",
      "└------------------------------------------------------------------------------┘\n",
      "\n",
      "┌---------------------------* MATRICE DE CONFUSION *---------------------------┐\n",
      "├─ RÉALITÉ \\ PRÉDICTION\n",
      "|                      Non         Oui\n",
      "|          Non           2         462\n",
      "|          Oui           9        3115\n",
      "|\n",
      "├─ Détail (classe positive = Oui):\n",
      "├─ ✅ Vrais Positifs (TP):  3115\n",
      "├─ ❌ Faux Positifs (FP):   462\n",
      "├─ ❌ Faux Négatifs (FN):   9\n",
      "├─ ✅ Vrais Négatifs (TN):  2\n",
      "└------------------------------------------------------------------------------┘\n",
      "└------------------------------------------------------------------------------┘\n",
      "🏃 View run Run LightGBM at: http://127.0.0.1:5010/#/experiments/17/runs/e2becc6a07b84a88af3e15bc62799145\n",
      "🧪 View experiment at: http://127.0.0.1:5010/#/experiments/17\n"
     ]
    }
   ],
   "source": [
    "# Définir l'expérience (ou la créer si elle n'existe pas)\n",
    "EXPERIMENT_NAME = \"lung-cancer-detection_baseline\"\n",
    "try:\n",
    "    experiment_id = mlflow.create_experiment(EXPERIMENT_NAME)\n",
    "except mlflow.exceptions.MlflowException:\n",
    "    experiment_id = mlflow.get_experiment_by_name(EXPERIMENT_NAME).experiment_id\n",
    "\n",
    "\n",
    "model_scores = []\n",
    "for name, pipeline in models_pipelines.items():\n",
    "    \n",
    "    with mlflow.start_run(experiment_id=experiment_id, run_name=f\"Run {name}\") as parent_run:\n",
    "        \n",
    "        # Loguer les paramètres globaux (une seule fois)\n",
    "        mlflow.log_param(\"data_version\", \"v1.0\")\n",
    "        mlflow.log_param(\"train_samples\", len(X_train))\n",
    "        mlflow.log_param(\"test_samples\", len(X_test))\n",
    "        mlflow.log_param(\"features\", X_train.shape[1])\n",
    "        mlflow.log_param(\"model_type\", \"baseline_comparison\")\n",
    "        # Plusieurs tags à la fois\n",
    "        mlflow.set_tags({\n",
    "            \"version\": \"v1.0\",\n",
    "            \"dataset\": \"survey_lung_cancer_features.parquet\",\n",
    "        })\n",
    "\n",
    "        mlflow.set_tag(\"mlflow.note.content\", \"Modèles de base pour comparaison initiale\")\n",
    "        mlflow.set_tag(\"mlflow.user\", \"francois.hellebuyck\")\n",
    "        mlflow.set_tag(\"mlflow.source.name\", \"03-Modeling.ipynb\")\n",
    "        mlflow.set_tag(\"mlflow.source.type\", \"notebook\")\n",
    "        dataset = mlflow.data.from_pandas(\n",
    "            df, source='data/processed/survey_lung_cancer_features.parquet', name=\"survey_lung_cancer_features\", targets=\"LUNG_CANCER\"\n",
    "        )\n",
    "        mlflow.log_input(dataset, context=\"training\")\n",
    "        print_title(f\"Entraînement du modèle: {name}\")\n",
    "        model = pipeline.fit(X_train, y_train)\n",
    "        y_pred = model.predict(X_test)\n",
    "        # Afficher le rapport\n",
    "        accuracy, precision, recall, f1, f2 = print_report(\n",
    "            y_test, y_pred, target_names=[\"Non\", \"Oui\"]\n",
    "        )\n",
    "\n",
    "        # 1. Log des paramètres spécifiques au modèle (e.g., type de modèle)\n",
    "        mlflow.log_param(\"model_name\", name)\n",
    "        \n",
    "        # 2. Log des métriques (ce sont des nombres)\n",
    "        mlflow.log_metric(\"accuracy\", accuracy)\n",
    "        mlflow.log_metric(\"precision\", precision)\n",
    "        mlflow.log_metric(\"recall\", recall)\n",
    "        mlflow.log_metric(\"f1_score\", f1)\n",
    "        mlflow.log_metric(\"f2_score\", f2)\n",
    "\n",
    "        # 3. Log du modèle (C'est cette étape qui crée l'artefact lourd)\n",
    "        # MLflow SAUVEGARDE L'ARTEFACT VIA LE SERVEUR MLFLOW DISTANT.\n",
    "        # if \"XGB\" in name:\n",
    "        #     # Utilise la saveur MLflow pour XGBoost\n",
    "        #     mlflow.xgboost.log_model(\n",
    "        #         xgb_model=model, \n",
    "        #         artifact_path=\"model\"\n",
    "        #     )\n",
    "        # elif \"GBM\" in name:\n",
    "        #     # Utilise la saveur MLflow pour LightGBM\n",
    "        #     mlflow.lightgbm.log_model(\n",
    "        #         lgb_model=model, \n",
    "        #         artifact_path=\"model\"\n",
    "        #     )\n",
    "        # else:\n",
    "            # Utilise la saveur MLflow pour scikit-learn (pour les autres modèles)\n",
    "        mlflow.sklearn.log_model(\n",
    "            sk_model=pipeline, \n",
    "            artifact_path=\"model\"\n",
    "        )\n",
    "    \n",
    "\n",
    "        model_score = {\n",
    "            \"Model\": name,\n",
    "            \"Accuracy\": accuracy,\n",
    "            \"Precision\": precision,\n",
    "            \"Recall\": recall,\n",
    "            \"F1-score\": f1,\n",
    "            \"F2-score\": f2,\n",
    "        }\n",
    "        model_scores.append(model_score)\n",
    "        print_end()"
   ]
  },
  {
   "cell_type": "markdown",
   "id": "d5a80a3d",
   "metadata": {},
   "source": [
    "#### 📊 Tableau des résultats Baseline"
   ]
  },
  {
   "cell_type": "code",
   "execution_count": 44,
   "id": "fcdf4156",
   "metadata": {},
   "outputs": [
    {
     "name": "stdout",
     "output_type": "stream",
     "text": [
      "\n",
      "┌------------* TABLEAU DES PERFORMANCES DES MODÈLES PAR F2-score *------------┐\n",
      "                     Accuracy  Precision  Recall  F1-score  F2-score\n",
      "Model                                                               \n",
      "Logistic Regression     0.869      0.871   0.997     0.930     0.969\n",
      "LightGBM                0.869      0.871   0.997     0.930     0.969\n",
      "Random Forest           0.859      0.871   0.984     0.924     0.959\n",
      "XGBoost                 0.855      0.870   0.980     0.922     0.956\n",
      "Dummy                   0.129      0.000   0.000     0.000     0.000\n",
      "└------------------------------------------------------------------------------┘\n"
     ]
    }
   ],
   "source": [
    "# Tableau des performances des modèles\n",
    "scores_df = pd.DataFrame(\n",
    "   model_scores\n",
    ")\n",
    "scores_df.set_index(\"Model\", inplace=True)\n",
    "scores_df.sort_values(by=[\"F2-score\", \"Recall\"], ascending=False, inplace=True)\n",
    "print_title(\"TABLEAU DES PERFORMANCES DES MODÈLES PAR F2-score\")\n",
    "print(scores_df.round(3).to_string(float_format=\"{:.3f}\".format))\n",
    "print_end()"
   ]
  },
  {
   "cell_type": "markdown",
   "id": "6f5f5a1b",
   "metadata": {},
   "source": [
    "### ✖️ Validation croisée"
   ]
  },
  {
   "cell_type": "code",
   "execution_count": 45,
   "id": "b0a58c67",
   "metadata": {},
   "outputs": [
    {
     "name": "stderr",
     "output_type": "stream",
     "text": [
      "/Users/francoishellebuyck/Documents/projects/openclassrooms/project6/.venv/lib/python3.13/site-packages/mlflow/data/dataset_source_registry.py:148: UserWarning: Failed to determine whether UCVolumeDatasetSource can resolve source information for 'data/processed/survey_lung_cancer_features.parquet'. Exception: \n",
      "  return _dataset_source_registry.resolve(\n",
      "/Users/francoishellebuyck/Documents/projects/openclassrooms/project6/.venv/lib/python3.13/site-packages/mlflow/data/dataset_source_registry.py:148: UserWarning: The specified dataset source can be interpreted in multiple ways: LocalArtifactDatasetSource, LocalArtifactDatasetSource. MLflow will assume that this is a LocalArtifactDatasetSource source.\n",
      "  return _dataset_source_registry.resolve(\n",
      "/Users/francoishellebuyck/Documents/projects/openclassrooms/project6/.venv/lib/python3.13/site-packages/mlflow/types/utils.py:452: UserWarning: Hint: Inferred schema contains integer column(s). Integer columns in Python cannot represent missing values. If your input data contains missing values at inference time, it will be encoded as floats and will cause a schema enforcement error. The best way to avoid this problem is to infer the model schema based on a realistic data sample (training dataset) that includes missing values. Alternatively, you can declare integer columns as doubles (float64) whenever these columns may have missing values. See `Handling Integers With Missing Values <https://www.mlflow.org/docs/latest/models.html#handling-integers-with-missing-values>`_ for more details.\n",
      "  warnings.warn(\n"
     ]
    },
    {
     "name": "stdout",
     "output_type": "stream",
     "text": [
      "\n",
      "┌-----------------------* VALIDATION CROISÉE Pipeline *-----------------------┐\n",
      "├─ Accuracy: 0.870 (+/- 0.002) [CV: 0.001]\n",
      "├─ Précision: 0.871 (+/- 0.001) [CV: 0.000]\n",
      "├─ Rappel:    0.999 (+/- 0.002) [CV: 0.001]\n",
      "├─ F1-Score:  0.930 (+/- 0.001) [CV: 0.001]\n",
      "├─ F2-Score:  0.970 (+/- 0.001) [CV: 0.001]\n",
      "|\n",
      "├─ Stabilité precision:  0.000 ✅ Stable\n",
      "├─ Stabilité recall:  0.001 ✅ Stable\n",
      "├─ Stabilité f1:  0.001 ✅ Stable\n",
      "├─ Stabilité f2:  0.001 ✅ Stable\n",
      "└------------------------------------------------------------------------------┘\n",
      "🏃 View run Run CV Logistic Regression at: http://127.0.0.1:5010/#/experiments/12/runs/4da23db19da74d108ef4a7e18f3fbbf1\n",
      "🧪 View experiment at: http://127.0.0.1:5010/#/experiments/12\n"
     ]
    },
    {
     "name": "stderr",
     "output_type": "stream",
     "text": [
      "/Users/francoishellebuyck/Documents/projects/openclassrooms/project6/.venv/lib/python3.13/site-packages/mlflow/data/dataset_source_registry.py:148: UserWarning: Failed to determine whether UCVolumeDatasetSource can resolve source information for 'data/processed/survey_lung_cancer_features.parquet'. Exception: \n",
      "  return _dataset_source_registry.resolve(\n",
      "/Users/francoishellebuyck/Documents/projects/openclassrooms/project6/.venv/lib/python3.13/site-packages/mlflow/data/dataset_source_registry.py:148: UserWarning: The specified dataset source can be interpreted in multiple ways: LocalArtifactDatasetSource, LocalArtifactDatasetSource. MLflow will assume that this is a LocalArtifactDatasetSource source.\n",
      "  return _dataset_source_registry.resolve(\n",
      "/Users/francoishellebuyck/Documents/projects/openclassrooms/project6/.venv/lib/python3.13/site-packages/mlflow/types/utils.py:452: UserWarning: Hint: Inferred schema contains integer column(s). Integer columns in Python cannot represent missing values. If your input data contains missing values at inference time, it will be encoded as floats and will cause a schema enforcement error. The best way to avoid this problem is to infer the model schema based on a realistic data sample (training dataset) that includes missing values. Alternatively, you can declare integer columns as doubles (float64) whenever these columns may have missing values. See `Handling Integers With Missing Values <https://www.mlflow.org/docs/latest/models.html#handling-integers-with-missing-values>`_ for more details.\n",
      "  warnings.warn(\n"
     ]
    },
    {
     "name": "stdout",
     "output_type": "stream",
     "text": [
      "\n",
      "┌-----------------------* VALIDATION CROISÉE Pipeline *-----------------------┐\n",
      "├─ Accuracy: 0.854 (+/- 0.007) [CV: 0.004]\n",
      "├─ Précision: 0.870 (+/- 0.001) [CV: 0.001]\n",
      "├─ Rappel:    0.978 (+/- 0.008) [CV: 0.004]\n",
      "├─ F1-Score:  0.921 (+/- 0.004) [CV: 0.002]\n",
      "├─ F2-Score:  0.954 (+/- 0.006) [CV: 0.003]\n",
      "|\n",
      "├─ Stabilité precision:  0.001 ✅ Stable\n",
      "├─ Stabilité recall:  0.004 ✅ Stable\n",
      "├─ Stabilité f1:  0.002 ✅ Stable\n",
      "├─ Stabilité f2:  0.003 ✅ Stable\n",
      "└------------------------------------------------------------------------------┘\n",
      "🏃 View run Run CV Random Forest at: http://127.0.0.1:5010/#/experiments/12/runs/1f4cd5ddca8344188b9c7d1de58a4a9b\n",
      "🧪 View experiment at: http://127.0.0.1:5010/#/experiments/12\n"
     ]
    },
    {
     "name": "stderr",
     "output_type": "stream",
     "text": [
      "/Users/francoishellebuyck/Documents/projects/openclassrooms/project6/.venv/lib/python3.13/site-packages/mlflow/data/dataset_source_registry.py:148: UserWarning: Failed to determine whether UCVolumeDatasetSource can resolve source information for 'data/processed/survey_lung_cancer_features.parquet'. Exception: \n",
      "  return _dataset_source_registry.resolve(\n",
      "/Users/francoishellebuyck/Documents/projects/openclassrooms/project6/.venv/lib/python3.13/site-packages/mlflow/data/dataset_source_registry.py:148: UserWarning: The specified dataset source can be interpreted in multiple ways: LocalArtifactDatasetSource, LocalArtifactDatasetSource. MLflow will assume that this is a LocalArtifactDatasetSource source.\n",
      "  return _dataset_source_registry.resolve(\n",
      "/Users/francoishellebuyck/Documents/projects/openclassrooms/project6/.venv/lib/python3.13/site-packages/mlflow/types/utils.py:452: UserWarning: Hint: Inferred schema contains integer column(s). Integer columns in Python cannot represent missing values. If your input data contains missing values at inference time, it will be encoded as floats and will cause a schema enforcement error. The best way to avoid this problem is to infer the model schema based on a realistic data sample (training dataset) that includes missing values. Alternatively, you can declare integer columns as doubles (float64) whenever these columns may have missing values. See `Handling Integers With Missing Values <https://www.mlflow.org/docs/latest/models.html#handling-integers-with-missing-values>`_ for more details.\n",
      "  warnings.warn(\n"
     ]
    },
    {
     "name": "stdout",
     "output_type": "stream",
     "text": [
      "\n",
      "┌-----------------------* VALIDATION CROISÉE Pipeline *-----------------------┐\n",
      "├─ Accuracy: 0.852 (+/- 0.006) [CV: 0.003]\n",
      "├─ Précision: 0.871 (+/- 0.002) [CV: 0.001]\n",
      "├─ Rappel:    0.975 (+/- 0.006) [CV: 0.003]\n",
      "├─ F1-Score:  0.920 (+/- 0.003) [CV: 0.002]\n",
      "├─ F2-Score:  0.952 (+/- 0.005) [CV: 0.003]\n",
      "|\n",
      "├─ Stabilité precision:  0.001 ✅ Stable\n",
      "├─ Stabilité recall:  0.003 ✅ Stable\n",
      "├─ Stabilité f1:  0.002 ✅ Stable\n",
      "├─ Stabilité f2:  0.003 ✅ Stable\n",
      "└------------------------------------------------------------------------------┘\n",
      "🏃 View run Run CV XGBoost at: http://127.0.0.1:5010/#/experiments/12/runs/390618ed0dbe444db4d65df8d8d5258c\n",
      "🧪 View experiment at: http://127.0.0.1:5010/#/experiments/12\n"
     ]
    },
    {
     "name": "stderr",
     "output_type": "stream",
     "text": [
      "/Users/francoishellebuyck/Documents/projects/openclassrooms/project6/.venv/lib/python3.13/site-packages/mlflow/data/dataset_source_registry.py:148: UserWarning: Failed to determine whether UCVolumeDatasetSource can resolve source information for 'data/processed/survey_lung_cancer_features.parquet'. Exception: \n",
      "  return _dataset_source_registry.resolve(\n",
      "/Users/francoishellebuyck/Documents/projects/openclassrooms/project6/.venv/lib/python3.13/site-packages/mlflow/data/dataset_source_registry.py:148: UserWarning: The specified dataset source can be interpreted in multiple ways: LocalArtifactDatasetSource, LocalArtifactDatasetSource. MLflow will assume that this is a LocalArtifactDatasetSource source.\n",
      "  return _dataset_source_registry.resolve(\n",
      "/Users/francoishellebuyck/Documents/projects/openclassrooms/project6/.venv/lib/python3.13/site-packages/mlflow/types/utils.py:452: UserWarning: Hint: Inferred schema contains integer column(s). Integer columns in Python cannot represent missing values. If your input data contains missing values at inference time, it will be encoded as floats and will cause a schema enforcement error. The best way to avoid this problem is to infer the model schema based on a realistic data sample (training dataset) that includes missing values. Alternatively, you can declare integer columns as doubles (float64) whenever these columns may have missing values. See `Handling Integers With Missing Values <https://www.mlflow.org/docs/latest/models.html#handling-integers-with-missing-values>`_ for more details.\n",
      "  warnings.warn(\n"
     ]
    },
    {
     "name": "stdout",
     "output_type": "stream",
     "text": [
      "\n",
      "┌-----------------------* VALIDATION CROISÉE Pipeline *-----------------------┐\n",
      "├─ Accuracy: 0.869 (+/- 0.001) [CV: 0.001]\n",
      "├─ Précision: 0.871 (+/- 0.001) [CV: 0.000]\n",
      "├─ Rappel:    0.998 (+/- 0.001) [CV: 0.001]\n",
      "├─ F1-Score:  0.930 (+/- 0.001) [CV: 0.000]\n",
      "├─ F2-Score:  0.970 (+/- 0.001) [CV: 0.001]\n",
      "|\n",
      "├─ Stabilité precision:  0.000 ✅ Stable\n",
      "├─ Stabilité recall:  0.001 ✅ Stable\n",
      "├─ Stabilité f1:  0.000 ✅ Stable\n",
      "├─ Stabilité f2:  0.001 ✅ Stable\n",
      "└------------------------------------------------------------------------------┘\n",
      "🏃 View run Run CV LightGBM at: http://127.0.0.1:5010/#/experiments/12/runs/02ef40217d014d3b9269643ead0c4d0a\n",
      "🧪 View experiment at: http://127.0.0.1:5010/#/experiments/12\n"
     ]
    }
   ],
   "source": [
    "models_pipelines = {\n",
    "    \"Logistic Regression\": rl_pipeline,\n",
    "    \"Random Forest\": rf_pipeline,\n",
    "    \"XGBoost\": xgb_pipeline,\n",
    "    \"LightGBM\": lgb_pipeline\n",
    "}\n",
    "model_scores = []\n",
    "\n",
    "# Définir l'expérience (ou la créer si elle n'existe pas)\n",
    "EXPERIMENT_NAME = \"lung-cancer-detection_cross-validation\"\n",
    "try:\n",
    "    experiment_id = mlflow.create_experiment(EXPERIMENT_NAME)\n",
    "except mlflow.exceptions.MlflowException:\n",
    "    experiment_id = mlflow.get_experiment_by_name(EXPERIMENT_NAME).experiment_id\n",
    "\n",
    "        \n",
    "for name, pipeline in models_pipelines.items():\n",
    "\n",
    "    with mlflow.start_run(experiment_id=experiment_id, run_name=f\"Run CV {name}\") as parent_run:\n",
    "                \n",
    "        # Loguer les paramètres globaux (une seule fois)\n",
    "        mlflow.log_param(\"data_version\", \"v1.0\")\n",
    "        mlflow.log_param(\"train_samples\", len(X_train))\n",
    "        mlflow.log_param(\"test_samples\", len(X_test))\n",
    "        mlflow.log_param(\"features\", X_train.shape[1])\n",
    "        mlflow.log_param(\"model_type\", \"cross_validation\")\n",
    "        # Plusieurs tags à la fois\n",
    "        mlflow.set_tags({\n",
    "            \"version\": \"v1.0\",\n",
    "            \"dataset\": \"survey_lung_cancer_features.parquet\",\n",
    "        })\n",
    "\n",
    "        mlflow.set_tag(\"mlflow.note.content\", \"Modèles avec validation croisée pour évaluation de la stabilité\")\n",
    "        mlflow.set_tag(\"mlflow.user\", \"francois.hellebuyck\")\n",
    "        mlflow.set_tag(\"mlflow.source.name\", \"03-Modeling.ipynb\")\n",
    "        mlflow.set_tag(\"mlflow.source.type\", \"notebook\")\n",
    "        dataset = mlflow.data.from_pandas(\n",
    "            df, source='data/processed/survey_lung_cancer_features.parquet', name=\"survey_lung_cancer_features\", targets=\"LUNG_CANCER\"\n",
    "        )\n",
    "        mlflow.log_input(dataset, context=\"training CV\")\n",
    "\n",
    "        accuracy_score, precision_score, recall_score, f1_score, f2_score, stable = (\n",
    "            print_cross_validation_scores(pipeline, X_train, y_train)\n",
    "        )\n",
    "         # 1. Log des paramètres spécifiques au modèle (e.g., type de modèle)\n",
    "        mlflow.log_param(\"model_name\", name)\n",
    "        \n",
    "        # 2. Log des métriques (ce sont des nombres)\n",
    "        mlflow.log_metric(\"accuracy\", accuracy_score)\n",
    "        mlflow.log_metric(\"precision\", precision_score)\n",
    "        mlflow.log_metric(\"recall\", recall_score)\n",
    "        mlflow.log_metric(\"f1_score\", f1_score)\n",
    "        mlflow.log_metric(\"f2_score\", f2_score)\n",
    "        mlflow.log_param(\"stability\", stable)\n",
    "\n",
    "        mlflow.sklearn.log_model(\n",
    "            sk_model=pipeline, \n",
    "            artifact_path=\"model\"\n",
    "        )\n",
    "    \n",
    "        model_score = {\n",
    "                    \"Model\": name,\n",
    "                    \"Accuracy\": accuracy_score,\n",
    "                    \"Precision\": precision_score,\n",
    "                    \"Recall\": recall_score,\n",
    "                    \"F1-score\": f1_score,\n",
    "                    \"F2-score\": f2_score,\n",
    "                    \"Stabilité\": stable,\n",
    "                }\n",
    "        model_scores.append(model_score)"
   ]
  },
  {
   "cell_type": "code",
   "execution_count": 46,
   "id": "8b6fce2d",
   "metadata": {},
   "outputs": [
    {
     "name": "stdout",
     "output_type": "stream",
     "text": [
      "\n",
      "┌------------* TABLEAU DES PERFORMANCES DES MODÈLES PAR F2-score *------------┐\n",
      "                     Accuracy  Precision  Recall  F1-score  F2-score                                                                            Stabilité\n",
      "Model                                                                                                                                                    \n",
      "Logistic Regression     0.870      0.871   0.999     0.930     0.970  {'precision': '✅ Stable', 'recall': '✅ Stable', 'f1': '✅ Stable', 'f2': '✅ Stable'}\n",
      "LightGBM                0.869      0.871   0.998     0.930     0.970  {'precision': '✅ Stable', 'recall': '✅ Stable', 'f1': '✅ Stable', 'f2': '✅ Stable'}\n",
      "Random Forest           0.854      0.870   0.978     0.921     0.954  {'precision': '✅ Stable', 'recall': '✅ Stable', 'f1': '✅ Stable', 'f2': '✅ Stable'}\n",
      "XGBoost                 0.852      0.871   0.975     0.920     0.952  {'precision': '✅ Stable', 'recall': '✅ Stable', 'f1': '✅ Stable', 'f2': '✅ Stable'}\n",
      "└------------------------------------------------------------------------------┘\n"
     ]
    }
   ],
   "source": [
    "# Tableau des performances des modèles\n",
    "scores_df = pd.DataFrame(\n",
    "   model_scores\n",
    ")\n",
    "scores_df.set_index(\"Model\", inplace=True)\n",
    "scores_df.sort_values(by=[\"F2-score\", \"Recall\"], ascending=False, inplace=True)\n",
    "print_title(\"TABLEAU DES PERFORMANCES DES MODÈLES PAR F2-score\")\n",
    "print(scores_df.round(3).to_string(float_format=\"{:.3f}\".format))\n",
    "print_end()"
   ]
  },
  {
   "cell_type": "code",
   "execution_count": 47,
   "id": "e49fc7a2",
   "metadata": {},
   "outputs": [
    {
     "data": {
      "application/vnd.microsoft.datawrangler.viewer.v0+json": {
       "columns": [
        {
         "name": "index",
         "rawType": "object",
         "type": "string"
        },
        {
         "name": "Logistic Regression",
         "rawType": "object",
         "type": "unknown"
        }
       ],
       "ref": "ea7a7434-c321-4c7f-a896-f13981a732fa",
       "rows": [
        [
         "Accuracy",
         "0.8698438851641266"
        ],
        [
         "Precision",
         "0.8707216523633171"
        ],
        [
         "Recall",
         "0.9988264389896834"
        ],
        [
         "F1-score",
         "0.9303849082981156"
        ],
        [
         "F2-score",
         "0.9702759845644332"
        ],
        [
         "Stabilité",
         "{'precision': '✅ Stable', 'recall': '✅ Stable', 'f1': '✅ Stable', 'f2': '✅ Stable'}"
        ]
       ],
       "shape": {
        "columns": 1,
        "rows": 6
       }
      },
      "text/plain": [
       "Accuracy                                              0.869844\n",
       "Precision                                             0.870722\n",
       "Recall                                                0.998826\n",
       "F1-score                                              0.930385\n",
       "F2-score                                              0.970276\n",
       "Stabilité    {'precision': '✅ Stable', 'recall': '✅ Stable'...\n",
       "Name: Logistic Regression, dtype: object"
      ]
     },
     "execution_count": 47,
     "metadata": {},
     "output_type": "execute_result"
    }
   ],
   "source": [
    "scores_df.iloc[0,:]\n"
   ]
  },
  {
   "cell_type": "code",
   "execution_count": null,
   "id": "980d6d36",
   "metadata": {},
   "outputs": [],
   "source": []
  }
 ],
 "metadata": {
  "kernelspec": {
   "display_name": "project6",
   "language": "python",
   "name": "python3"
  },
  "language_info": {
   "codemirror_mode": {
    "name": "ipython",
    "version": 3
   },
   "file_extension": ".py",
   "mimetype": "text/x-python",
   "name": "python",
   "nbconvert_exporter": "python",
   "pygments_lexer": "ipython3",
   "version": "3.13.5"
  }
 },
 "nbformat": 4,
 "nbformat_minor": 5
}
