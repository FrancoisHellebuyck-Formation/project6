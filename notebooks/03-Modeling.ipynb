{
 "cells": [
  {
   "cell_type": "markdown",
   "id": "fde38ca2",
   "metadata": {},
   "source": [
    "# ⚙️ Initiez-vous au MLOps (partie 1/2)\n",
    "\n",
    "## 🤖 Modélisation\n",
    "### 🛠️ Préparez l'environnement de travail\n",
    "#### 📦 Import des modules python"
   ]
  },
  {
   "cell_type": "code",
   "execution_count": 6,
   "id": "cdf8793b",
   "metadata": {},
   "outputs": [],
   "source": [
    "import sys\n",
    "import os\n",
    "sys.path.append(os.path.dirname(os.path.dirname(os.path.abspath('__file__'))))\n",
    "\n",
    "import mlflow\n",
    "os.environ['MLFLOW_TRACKING_URI'] = 'http://127.0.0.1:5010'\n",
    "mlflow.set_experiment(\"lung-cancer-detection\")\n",
    "mlflow.sklearn.autolog(log_input_examples=True, log_model_signatures=True)\n",
    "mlflow.xgboost.autolog(log_input_examples=True, log_model_signatures=True) #, log_feature_importance_plot=False)\n",
    "mlflow.lightgbm.autolog(log_input_examples=True, log_model_signatures=True) #, log_feature_importance_plot=False)\n",
    "\n",
    "import pyarrow\n",
    "import pandas as pd\n",
    "import numpy as np\n",
    "from src.visualization.visu_text import print_title, print_end, print_col, quick_df_info\n",
    "from sklearn.model_selection import (\n",
    "    train_test_split,\n",
    "    GridSearchCV\n",
    ")\n",
    "from imblearn.pipeline import Pipeline as ImbPipeline\n",
    "from imblearn.over_sampling import SMOTE\n",
    "from sklearn.preprocessing import StandardScaler\n",
    "from sklearn.dummy import DummyClassifier\n",
    "from sklearn.linear_model import LogisticRegression\n",
    "from sklearn.ensemble import RandomForestClassifier\n",
    "import xgboost as xgb\n",
    "\n",
    "from src.models.modelization import (\n",
    "    print_report,\n",
    "    print_cross_validation_scores,\n",
    ")"
   ]
  },
  {
   "cell_type": "markdown",
   "id": "e88c75cf",
   "metadata": {},
   "source": [
    "### Préparation du jeu de données"
   ]
  },
  {
   "cell_type": "code",
   "execution_count": 7,
   "id": "c9ac6c31",
   "metadata": {},
   "outputs": [
    {
     "name": "stdout",
     "output_type": "stream",
     "text": [
      "\n",
      "┌-------------------------------* Information *-------------------------------┐\n",
      "├─------- Shape: (4455, 30) - Colonnes:\n",
      "├─GENDER                    int64     \n",
      "├─AGE                       int64     \n",
      "├─SMOKING                   int64     \n",
      "├─YELLOW_FINGERS            int64     \n",
      "├─ANXIETY                   int64     \n",
      "├─PEER_PRESSURE             int64     \n",
      "├─CHRONIC DISEASE           int64     \n",
      "├─FATIGUE                   int64     \n",
      "├─ALLERGY                   int64     \n",
      "├─WHEEZING                  int64     \n",
      "├─ALCOHOL CONSUMING         int64     \n",
      "├─COUGHING                  int64     \n",
      "├─SHORTNESS OF BREATH       int64     \n",
      "├─SWALLOWING DIFFICULTY     int64     \n",
      "├─CHEST PAIN                int64     \n",
      "├─LUNG_CANCER               int64     \n",
      "├─SMOKING_x_AGE             int64     \n",
      "├─SMOKING_x_ALCOHOL         int64     \n",
      "├─RESPIRATORY_SYMPTOMS      int64     \n",
      "├─TOTAL_SYMPTOMS            int64     \n",
      "├─BEHAVIORAL_RISK_SCORE     int64     \n",
      "├─SEVERE_SYMPTOMS           int64     \n",
      "├─AGE_GROUP                 int8      \n",
      "├─HIGH_RISK_PROFILE         int64     \n",
      "├─AGE_SQUARED               int64     \n",
      "├─CANCER_TRIAD              int64     \n",
      "├─SMOKER_WITH_RESP_SYMPTOMS int64     \n",
      "├─ADVANCED_SYMPTOMS         int64     \n",
      "├─SYMPTOMS_PER_AGE          float64   \n",
      "├─RESP_SYMPTOM_RATIO        float64   \n",
      "└------------------------------------------------------------------------------┘\n"
     ]
    }
   ],
   "source": [
    "df = pd.read_parquet(\"../data/processed/survey_lung_cancer_features.parquet\", engine='pyarrow')\n",
    "# Conversion des colonnes booléennes en int pour compatibilité avec certains modèles\n",
    "bool_cols = df.select_dtypes(include=['bool', 'boolean']).columns\n",
    "df[bool_cols] = df[bool_cols].astype(int)\n",
    "# Conversion des colonnes catégorielles en codes numériques\n",
    "cat_cols = df.select_dtypes(include=['category']).columns\n",
    "df[cat_cols] = df[cat_cols].apply(lambda x: x.cat.codes)\n",
    "\n",
    "quick_df_info(df)"
   ]
  },
  {
   "cell_type": "markdown",
   "id": "2fad1f66",
   "metadata": {},
   "source": [
    "### ⛓️‍💥 Separation du jeu de données"
   ]
  },
  {
   "cell_type": "code",
   "execution_count": 8,
   "id": "1d02176d",
   "metadata": {},
   "outputs": [
    {
     "name": "stdout",
     "output_type": "stream",
     "text": [
      "\n",
      "┌------------------* Données originales: 4455 échantillons *------------------┐\n",
      "├─Distribution: Classe 0: 429, Classe 1: 4026\n",
      "├─Proportion classe 1: 90.4%\n",
      "└------------------------------------------------------------------------------┘\n",
      "\n",
      "┌---------------------------* RÉPARTITION FINALE: *---------------------------┐\n",
      "├─ Train:      2673 échantillons (60.0%)\n",
      "├─ Validation: 891 échantillons (20.0%)\n",
      "├─Test:       891 échantillons (20.0%)\n",
      "└------------------------------------------------------------------------------┘\n",
      "\n",
      "┌-----------------------* VÉRIFICATION STRATIFICATION: *-----------------------┐\n",
      "├─ Original    - Classe 1: 90.4%\n",
      "├─ Train       - Classe 1: 90.4%\n",
      "├─ Validation  - Classe 1: 90.3%\n",
      "├─ Test        - Classe 1: 90.3%\n",
      "└------------------------------------------------------------------------------┘\n",
      "\n",
      "┌-------------------------------* Information *-------------------------------┐\n",
      "├─------- Shape: (2673, 29) - Colonnes:\n",
      "├─GENDER                    int64     \n",
      "├─AGE                       int64     \n",
      "├─SMOKING                   int64     \n",
      "├─YELLOW_FINGERS            int64     \n",
      "├─ANXIETY                   int64     \n",
      "├─PEER_PRESSURE             int64     \n",
      "├─CHRONIC DISEASE           int64     \n",
      "├─FATIGUE                   int64     \n",
      "├─ALLERGY                   int64     \n",
      "├─WHEEZING                  int64     \n",
      "├─ALCOHOL CONSUMING         int64     \n",
      "├─COUGHING                  int64     \n",
      "├─SHORTNESS OF BREATH       int64     \n",
      "├─SWALLOWING DIFFICULTY     int64     \n",
      "├─CHEST PAIN                int64     \n",
      "├─SMOKING_x_AGE             int64     \n",
      "├─SMOKING_x_ALCOHOL         int64     \n",
      "├─RESPIRATORY_SYMPTOMS      int64     \n",
      "├─TOTAL_SYMPTOMS            int64     \n",
      "├─BEHAVIORAL_RISK_SCORE     int64     \n",
      "├─SEVERE_SYMPTOMS           int64     \n",
      "├─AGE_GROUP                 int8      \n",
      "├─HIGH_RISK_PROFILE         int64     \n",
      "├─AGE_SQUARED               int64     \n",
      "├─CANCER_TRIAD              int64     \n",
      "├─SMOKER_WITH_RESP_SYMPTOMS int64     \n",
      "├─ADVANCED_SYMPTOMS         int64     \n",
      "├─SYMPTOMS_PER_AGE          float64   \n",
      "├─RESP_SYMPTOM_RATIO        float64   \n",
      "└------------------------------------------------------------------------------┘\n"
     ]
    }
   ],
   "source": [
    "# ================================\n",
    "# SÉPARATION TRAIN / VALIDATION / TEST\n",
    "# ================================\n",
    "\n",
    "y = df[\"LUNG_CANCER\"]\n",
    "X = df.drop(columns=[\"LUNG_CANCER\"])\n",
    "\n",
    "print_title(f\"Données originales: {X.shape[0]} échantillons\")\n",
    "print_col(f\"Distribution: Classe 0: {(y == 0).sum()}, Classe 1: {(y == 1).sum()}\")\n",
    "print_col(f\"Proportion classe 1: {(y == 1).mean()*100:.1f}%\")\n",
    "print_end()\n",
    "\n",
    "# Étape 1: Séparer train+val (80%) / test (20%)\n",
    "X_temp, X_test, y_temp, y_test = train_test_split(\n",
    "    X,\n",
    "    y,\n",
    "    test_size=0.2,  # 20% pour test\n",
    "    random_state=42,\n",
    "    stratify=y,  # Garde la même proportion de classes\n",
    ")\n",
    "\n",
    "# Étape 2: Séparer train (60%) / validation (20%)\n",
    "X_train, X_val, y_train, y_val = train_test_split(\n",
    "    X_temp,\n",
    "    y_temp,\n",
    "    test_size=0.25,  # 25% de 80% = 20% du total\n",
    "    random_state=42,\n",
    "    stratify=y_temp,\n",
    ")\n",
    "\n",
    "# ================================\n",
    "# VÉRIFICATION DES PROPORTIONS\n",
    "# ================================\n",
    "\n",
    "total = len(X)\n",
    "print_title(\"RÉPARTITION FINALE:\")\n",
    "print_col(f\" Train:      {len(X_train)} échantillons ({len(X_train)/total*100:.1f}%)\")\n",
    "print_col(f\" Validation: {len(X_val)} échantillons ({len(X_val)/total*100:.1f}%)\")\n",
    "print_col(f\"Test:       {len(X_test)} échantillons ({len(X_test)/total*100:.1f}%)\")\n",
    "print_end()\n",
    "\n",
    "print_title(\"VÉRIFICATION STRATIFICATION:\")\n",
    "print_col(f\" Original    - Classe 1: {(y == 1).mean()*100:.1f}%\")\n",
    "print_col(f\" Train       - Classe 1: {(y_train == 1).mean()*100:.1f}%\")\n",
    "print_col(f\" Validation  - Classe 1: {(y_val == 1).mean()*100:.1f}%\")\n",
    "print_col(f\" Test        - Classe 1: {(y_test == 1).mean()*100:.1f}%\")\n",
    "print_end()\n",
    "\n",
    "quick_df_info(X_train)"
   ]
  },
  {
   "cell_type": "markdown",
   "id": "ece4384f",
   "metadata": {},
   "source": [
    "### 🤖 Dummy Classifier, Modèle naif"
   ]
  },
  {
   "cell_type": "code",
   "execution_count": 9,
   "id": "7404140f",
   "metadata": {},
   "outputs": [
    {
     "name": "stderr",
     "output_type": "stream",
     "text": [
      "2025/10/09 14:58:39 INFO mlflow.utils.autologging_utils: Created MLflow autologging run with ID '7aa3e2a3036c42d98010eef4763829cb', which will track hyperparameters, performance metrics, model artifacts, and lineage information for the current sklearn workflow\n",
      "2025/10/09 14:58:39 WARNING mlflow.sklearn: Failed to infer model signature: the trained model does not have a `predict` or `transform` function, which is required in order to infer the signature\n",
      "2025/10/09 14:58:39 WARNING mlflow.sklearn: Model was missing function: predict. Not logging python_function flavor!\n",
      "2025/10/09 14:58:41 WARNING mlflow.utils.environment: Failed to resolve installed pip version. ``pip`` will be added to conda.yaml environment spec without a version specifier.\n",
      "2025/10/09 14:58:41 WARNING mlflow.models.model: Failed to validate serving input example {\n",
      "  \"inputs\": [\n",
      "    [\n",
      "      0.0,\n",
      "      55.0,\n",
      "     .... Alternatively, you can avoid passing input example and pass model signature instead when logging the model. To ensure the input example is valid prior to serving, please try calling `mlflow.models.validate_serving_input` on the model uri and serving input example. A serving input example can be generated from model input example using `mlflow.models.convert_input_example_to_serving_input` function.\n",
      "Got error: Model does not have the \"python_function\" flavor\n",
      "2025/10/09 14:58:41 WARNING mlflow.utils.autologging_utils: Encountered unexpected error during sklearn autologging: [Errno 30] Read-only file system: '/mlflow'\n",
      "2025/10/09 14:58:41 INFO mlflow.utils.autologging_utils: Created MLflow autologging run with ID '50865dfaac3440688be155eae44534fd', which will track hyperparameters, performance metrics, model artifacts, and lineage information for the current sklearn workflow\n",
      "2025/10/09 14:58:41 WARNING mlflow.sklearn: Failed to log training dataset information to MLflow Tracking. Reason: 'Series' object has no attribute 'flatten'\n"
     ]
    },
    {
     "name": "stdout",
     "output_type": "stream",
     "text": [
      "🏃 View run flawless-bug-991 at: http://127.0.0.1:5010/#/experiments/3/runs/7aa3e2a3036c42d98010eef4763829cb\n",
      "🧪 View experiment at: http://127.0.0.1:5010/#/experiments/3\n"
     ]
    },
    {
     "name": "stderr",
     "output_type": "stream",
     "text": [
      "2025/10/09 14:58:43 WARNING mlflow.utils.environment: Failed to resolve installed pip version. ``pip`` will be added to conda.yaml environment spec without a version specifier.\n",
      "2025/10/09 14:58:43 WARNING mlflow.utils.autologging_utils: Encountered unexpected error during sklearn autologging: [Errno 30] Read-only file system: '/mlflow'\n"
     ]
    },
    {
     "name": "stdout",
     "output_type": "stream",
     "text": [
      "🏃 View run grandiose-gnu-884 at: http://127.0.0.1:5010/#/experiments/3/runs/50865dfaac3440688be155eae44534fd\n",
      "🧪 View experiment at: http://127.0.0.1:5010/#/experiments/3\n",
      "\n",
      "┌--------------------------* PERFORMANCE DU MODÈLE *--------------------------┐\n",
      "├─ Accuracy (Exactitude):       0.097 │ (TP+TN)/(TP+TN+FP+FN)\n",
      "├─ Precision (Précision):       0.000 │ TP/(TP+FP) | Minimiser les faux positifs. \n",
      "├─ Recall (Sensibilité):        0.000 │ TP/(TP+FN) | Minimiser les faux négatif. \n",
      "├─ F1-score:                    0.000 │ 2*Precision*Recall/(Precision+Recall)\n",
      "├─ F2-score:                    0.000 │ 5*Precision*Recall/(4*Precision+Recall) | Privilégie le rappel)\n",
      "└------------------------------------------------------------------------------┘\n",
      "\n",
      "┌---------------------------* MATRICE DE CONFUSION *---------------------------┐\n",
      "├─ RÉALITÉ \\ PRÉDICTION\n",
      "|                      Non         Oui\n",
      "|          Non          86           0\n",
      "|          Oui         805           0\n",
      "|\n",
      "├─ Détail (classe positive = Oui):\n",
      "├─ ✅ Vrais Positifs (TP):  0\n",
      "├─ ❌ Faux Positifs (FP):   0\n",
      "├─ ❌ Faux Négatifs (FN):   805\n",
      "├─ ✅ Vrais Négatifs (TN):  86\n",
      "└------------------------------------------------------------------------------┘\n"
     ]
    }
   ],
   "source": [
    "dummy_pipeline = ImbPipeline([ \n",
    "    ('oversampling', SMOTE(random_state=42)),\n",
    "    ('scaling', StandardScaler()),\n",
    "    ('model', DummyClassifier(random_state=42)) \n",
    "])\n",
    "\n",
    "dummy =dummy_pipeline.fit(X_train, y_train)\n",
    "y_pred = dummy.predict(X_test)\n",
    "# Afficher le rapport\n",
    "accuracy, precision, recall, f1, f2 = print_report(\n",
    "    y_test, y_pred, target_names=[\"Non\", \"Oui\"]\n",
    ")\n",
    "dummy_score = {\n",
    "    \"Model\": \"Dummy\",\n",
    "    \"Accuracy\": accuracy,\n",
    "    \"Precision\": precision,\n",
    "    \"Recall\": recall,\n",
    "    \"F1-score\": f1,\n",
    "    \"F2-score\": f2,\n",
    "}"
   ]
  },
  {
   "cell_type": "markdown",
   "id": "05236488",
   "metadata": {},
   "source": [
    "### 🤖 Regression logistique"
   ]
  },
  {
   "cell_type": "code",
   "execution_count": 10,
   "id": "edb31c7e",
   "metadata": {},
   "outputs": [
    {
     "name": "stderr",
     "output_type": "stream",
     "text": [
      "2025/10/09 14:58:43 INFO mlflow.utils.autologging_utils: Created MLflow autologging run with ID 'd94c96593c5e465f8785ed6224406813', which will track hyperparameters, performance metrics, model artifacts, and lineage information for the current sklearn workflow\n",
      "2025/10/09 14:58:43 WARNING mlflow.sklearn: Failed to infer model signature: the trained model does not have a `predict` or `transform` function, which is required in order to infer the signature\n",
      "2025/10/09 14:58:43 WARNING mlflow.sklearn: Model was missing function: predict. Not logging python_function flavor!\n",
      "2025/10/09 14:58:44 WARNING mlflow.utils.environment: Failed to resolve installed pip version. ``pip`` will be added to conda.yaml environment spec without a version specifier.\n",
      "2025/10/09 14:58:44 WARNING mlflow.models.model: Failed to validate serving input example {\n",
      "  \"inputs\": [\n",
      "    [\n",
      "      0.0,\n",
      "      55.0,\n",
      "     .... Alternatively, you can avoid passing input example and pass model signature instead when logging the model. To ensure the input example is valid prior to serving, please try calling `mlflow.models.validate_serving_input` on the model uri and serving input example. A serving input example can be generated from model input example using `mlflow.models.convert_input_example_to_serving_input` function.\n",
      "Got error: Model does not have the \"python_function\" flavor\n",
      "2025/10/09 14:58:44 WARNING mlflow.utils.autologging_utils: Encountered unexpected error during sklearn autologging: [Errno 30] Read-only file system: '/mlflow'\n",
      "2025/10/09 14:58:44 INFO mlflow.utils.autologging_utils: Created MLflow autologging run with ID '02f547b6ffa7487e9c23a9fe3ddcef82', which will track hyperparameters, performance metrics, model artifacts, and lineage information for the current sklearn workflow\n",
      "2025/10/09 14:58:44 WARNING mlflow.sklearn: Failed to log training dataset information to MLflow Tracking. Reason: 'Series' object has no attribute 'flatten'\n"
     ]
    },
    {
     "name": "stdout",
     "output_type": "stream",
     "text": [
      "🏃 View run bedecked-lynx-783 at: http://127.0.0.1:5010/#/experiments/3/runs/d94c96593c5e465f8785ed6224406813\n",
      "🧪 View experiment at: http://127.0.0.1:5010/#/experiments/3\n"
     ]
    },
    {
     "name": "stderr",
     "output_type": "stream",
     "text": [
      "2025/10/09 14:58:46 WARNING mlflow.utils.environment: Failed to resolve installed pip version. ``pip`` will be added to conda.yaml environment spec without a version specifier.\n",
      "2025/10/09 14:58:46 WARNING mlflow.utils.autologging_utils: Encountered unexpected error during sklearn autologging: [Errno 30] Read-only file system: '/mlflow'\n"
     ]
    },
    {
     "name": "stdout",
     "output_type": "stream",
     "text": [
      "🏃 View run glamorous-sloth-551 at: http://127.0.0.1:5010/#/experiments/3/runs/02f547b6ffa7487e9c23a9fe3ddcef82\n",
      "🧪 View experiment at: http://127.0.0.1:5010/#/experiments/3\n",
      "\n",
      "┌--------------------------* PERFORMANCE DU MODÈLE *--------------------------┐\n",
      "├─ Accuracy (Exactitude):       0.933 │ (TP+TN)/(TP+TN+FP+FN)\n",
      "├─ Precision (Précision):       0.996 │ TP/(TP+FP) | Minimiser les faux positifs. \n",
      "├─ Recall (Sensibilité):        0.929 │ TP/(TP+FN) | Minimiser les faux négatif. \n",
      "├─ F1-score:                    0.961 │ 2*Precision*Recall/(Precision+Recall)\n",
      "├─ F2-score:                    0.942 │ 5*Precision*Recall/(4*Precision+Recall) | Privilégie le rappel)\n",
      "└------------------------------------------------------------------------------┘\n",
      "\n",
      "┌---------------------------* MATRICE DE CONFUSION *---------------------------┐\n",
      "├─ RÉALITÉ \\ PRÉDICTION\n",
      "|                      Non         Oui\n",
      "|          Non          83           3\n",
      "|          Oui          57         748\n",
      "|\n",
      "├─ Détail (classe positive = Oui):\n",
      "├─ ✅ Vrais Positifs (TP):  748\n",
      "├─ ❌ Faux Positifs (FP):   3\n",
      "├─ ❌ Faux Négatifs (FN):   57\n",
      "├─ ✅ Vrais Négatifs (TN):  83\n",
      "└------------------------------------------------------------------------------┘\n"
     ]
    }
   ],
   "source": [
    "rl_pipeline = ImbPipeline([ \n",
    "    ('oversampling', SMOTE(random_state=42)),\n",
    "    ('scaling', StandardScaler()),\n",
    "    ('model', LogisticRegression(random_state=42)) \n",
    "])\n",
    "\n",
    "rl =rl_pipeline.fit(X_train, y_train)\n",
    "y_pred = rl.predict(X_test)\n",
    "# Afficher le rapport\n",
    "accuracy, precision, recall, f1, f2 = print_report(\n",
    "    y_test, y_pred, target_names=[\"Non\", \"Oui\"]\n",
    ")\n",
    "\n",
    "logisticRegression_score = {\n",
    "    \"Model\": \"LogisticRegression\",\n",
    "    \"Accuracy\": accuracy,\n",
    "    \"Precision\": precision,\n",
    "    \"Recall\": recall,\n",
    "    \"F1-score\": f1,\n",
    "    \"F2-score\": f2,\n",
    "}"
   ]
  },
  {
   "cell_type": "markdown",
   "id": "99616e6c",
   "metadata": {},
   "source": [
    "### 🤖 Random Forest"
   ]
  },
  {
   "cell_type": "code",
   "execution_count": 11,
   "id": "00801af9",
   "metadata": {},
   "outputs": [
    {
     "name": "stderr",
     "output_type": "stream",
     "text": [
      "2025/10/09 14:58:46 INFO mlflow.utils.autologging_utils: Created MLflow autologging run with ID '23d32238194f43b58d1ca3a6946a8aa1', which will track hyperparameters, performance metrics, model artifacts, and lineage information for the current sklearn workflow\n",
      "2025/10/09 14:58:46 WARNING mlflow.sklearn: Failed to infer model signature: the trained model does not have a `predict` or `transform` function, which is required in order to infer the signature\n",
      "2025/10/09 14:58:46 WARNING mlflow.sklearn: Model was missing function: predict. Not logging python_function flavor!\n",
      "2025/10/09 14:58:47 WARNING mlflow.utils.environment: Failed to resolve installed pip version. ``pip`` will be added to conda.yaml environment spec without a version specifier.\n",
      "2025/10/09 14:58:47 WARNING mlflow.models.model: Failed to validate serving input example {\n",
      "  \"inputs\": [\n",
      "    [\n",
      "      0.0,\n",
      "      55.0,\n",
      "     .... Alternatively, you can avoid passing input example and pass model signature instead when logging the model. To ensure the input example is valid prior to serving, please try calling `mlflow.models.validate_serving_input` on the model uri and serving input example. A serving input example can be generated from model input example using `mlflow.models.convert_input_example_to_serving_input` function.\n",
      "Got error: Model does not have the \"python_function\" flavor\n",
      "2025/10/09 14:58:47 WARNING mlflow.utils.autologging_utils: Encountered unexpected error during sklearn autologging: [Errno 30] Read-only file system: '/mlflow'\n",
      "2025/10/09 14:58:47 INFO mlflow.utils.autologging_utils: Created MLflow autologging run with ID '06ad3df8429b4e98bda37236df80bd4a', which will track hyperparameters, performance metrics, model artifacts, and lineage information for the current sklearn workflow\n",
      "2025/10/09 14:58:48 WARNING mlflow.utils.autologging_utils: MLflow autologging encountered a warning: \"/Users/francoishellebuyck/Documents/projects/openclassrooms/project6/.venv/lib/python3.13/site-packages/mlflow/types/utils.py:452: UserWarning: Hint: Inferred schema contains integer column(s). Integer columns in Python cannot represent missing values. If your input data contains missing values at inference time, it will be encoded as floats and will cause a schema enforcement error. The best way to avoid this problem is to infer the model schema based on a realistic data sample (training dataset) that includes missing values. Alternatively, you can declare integer columns as doubles (float64) whenever these columns may have missing values. See `Handling Integers With Missing Values <https://www.mlflow.org/docs/latest/models.html#handling-integers-with-missing-values>`_ for more details.\"\n",
      "2025/10/09 14:58:48 WARNING mlflow.utils.autologging_utils: MLflow autologging encountered a warning: \"/Users/francoishellebuyck/Documents/projects/openclassrooms/project6/.venv/lib/python3.13/site-packages/mlflow/types/utils.py:452: UserWarning: Hint: Inferred schema contains integer column(s). Integer columns in Python cannot represent missing values. If your input data contains missing values at inference time, it will be encoded as floats and will cause a schema enforcement error. The best way to avoid this problem is to infer the model schema based on a realistic data sample (training dataset) that includes missing values. Alternatively, you can declare integer columns as doubles (float64) whenever these columns may have missing values. See `Handling Integers With Missing Values <https://www.mlflow.org/docs/latest/models.html#handling-integers-with-missing-values>`_ for more details.\"\n"
     ]
    },
    {
     "name": "stdout",
     "output_type": "stream",
     "text": [
      "🏃 View run honorable-donkey-795 at: http://127.0.0.1:5010/#/experiments/3/runs/23d32238194f43b58d1ca3a6946a8aa1\n",
      "🧪 View experiment at: http://127.0.0.1:5010/#/experiments/3\n"
     ]
    },
    {
     "name": "stderr",
     "output_type": "stream",
     "text": [
      "2025/10/09 14:58:49 WARNING mlflow.utils.environment: Failed to resolve installed pip version. ``pip`` will be added to conda.yaml environment spec without a version specifier.\n",
      "2025/10/09 14:58:49 WARNING mlflow.utils.autologging_utils: Encountered unexpected error during sklearn autologging: [Errno 30] Read-only file system: '/mlflow'\n"
     ]
    },
    {
     "name": "stdout",
     "output_type": "stream",
     "text": [
      "🏃 View run languid-squirrel-396 at: http://127.0.0.1:5010/#/experiments/3/runs/06ad3df8429b4e98bda37236df80bd4a\n",
      "🧪 View experiment at: http://127.0.0.1:5010/#/experiments/3\n",
      "\n",
      "┌--------------------------* PERFORMANCE DU MODÈLE *--------------------------┐\n",
      "├─ Accuracy (Exactitude):       1.000 │ (TP+TN)/(TP+TN+FP+FN)\n",
      "├─ Precision (Précision):       1.000 │ TP/(TP+FP) | Minimiser les faux positifs. \n",
      "├─ Recall (Sensibilité):        1.000 │ TP/(TP+FN) | Minimiser les faux négatif. \n",
      "├─ F1-score:                    1.000 │ 2*Precision*Recall/(Precision+Recall)\n",
      "├─ F2-score:                    1.000 │ 5*Precision*Recall/(4*Precision+Recall) | Privilégie le rappel)\n",
      "└------------------------------------------------------------------------------┘\n",
      "\n",
      "┌---------------------------* MATRICE DE CONFUSION *---------------------------┐\n",
      "├─ RÉALITÉ \\ PRÉDICTION\n",
      "|                      Non         Oui\n",
      "|          Non          86           0\n",
      "|          Oui           0         805\n",
      "|\n",
      "├─ Détail (classe positive = Oui):\n",
      "├─ ✅ Vrais Positifs (TP):  805\n",
      "├─ ❌ Faux Positifs (FP):   0\n",
      "├─ ❌ Faux Négatifs (FN):   0\n",
      "├─ ✅ Vrais Négatifs (TN):  86\n",
      "└------------------------------------------------------------------------------┘\n"
     ]
    }
   ],
   "source": [
    "rf_pipeline = ImbPipeline([ \n",
    "    ('oversampling', SMOTE(random_state=42)),\n",
    "    ('model', RandomForestClassifier(random_state=42)) \n",
    "])\n",
    "\n",
    "rf = rf_pipeline.fit(X_train, y_train)\n",
    "y_pred = rf.predict(X_test)\n",
    "# Afficher le rapport\n",
    "accuracy, precision, recall, f1, f2 = print_report(\n",
    "    y_test, y_pred, target_names=[\"Non\", \"Oui\"]\n",
    ")\n",
    "\n",
    "randomForestClassifier_score = {\n",
    "    \"Model\": \"RandomForestClassifier\",\n",
    "    \"Accuracy\": accuracy,\n",
    "    \"Precision\": precision,\n",
    "    \"Recall\": recall,\n",
    "    \"F1-score\": f1,\n",
    "    \"F2-score\": f2,\n",
    "}"
   ]
  },
  {
   "cell_type": "markdown",
   "id": "8b954d7f",
   "metadata": {},
   "source": [
    "### 🤖 XGBoost"
   ]
  },
  {
   "cell_type": "code",
   "execution_count": 12,
   "id": "3aaaf185",
   "metadata": {},
   "outputs": [
    {
     "name": "stderr",
     "output_type": "stream",
     "text": [
      "2025/10/09 14:58:49 INFO mlflow.utils.autologging_utils: Created MLflow autologging run with ID '37b76b2fb0d048ac86a5e1d0293274da', which will track hyperparameters, performance metrics, model artifacts, and lineage information for the current sklearn workflow\n",
      "2025/10/09 14:58:49 WARNING mlflow.sklearn: Failed to infer model signature: the trained model does not have a `predict` or `transform` function, which is required in order to infer the signature\n",
      "2025/10/09 14:58:49 WARNING mlflow.sklearn: Model was missing function: predict. Not logging python_function flavor!\n",
      "2025/10/09 14:58:51 WARNING mlflow.utils.environment: Failed to resolve installed pip version. ``pip`` will be added to conda.yaml environment spec without a version specifier.\n",
      "2025/10/09 14:58:51 WARNING mlflow.models.model: Failed to validate serving input example {\n",
      "  \"inputs\": [\n",
      "    [\n",
      "      0.0,\n",
      "      55.0,\n",
      "     .... Alternatively, you can avoid passing input example and pass model signature instead when logging the model. To ensure the input example is valid prior to serving, please try calling `mlflow.models.validate_serving_input` on the model uri and serving input example. A serving input example can be generated from model input example using `mlflow.models.convert_input_example_to_serving_input` function.\n",
      "Got error: Model does not have the \"python_function\" flavor\n",
      "2025/10/09 14:58:51 WARNING mlflow.utils.autologging_utils: Encountered unexpected error during sklearn autologging: [Errno 30] Read-only file system: '/mlflow'\n",
      "2025/10/09 14:58:51 INFO mlflow.utils.autologging_utils: Created MLflow autologging run with ID '2939dc0f672f4aecb69fb3d4ddc427e9', which will track hyperparameters, performance metrics, model artifacts, and lineage information for the current xgboost workflow\n"
     ]
    },
    {
     "name": "stdout",
     "output_type": "stream",
     "text": [
      "🏃 View run adaptable-stork-170 at: http://127.0.0.1:5010/#/experiments/3/runs/37b76b2fb0d048ac86a5e1d0293274da\n",
      "🧪 View experiment at: http://127.0.0.1:5010/#/experiments/3\n"
     ]
    },
    {
     "name": "stderr",
     "output_type": "stream",
     "text": [
      "2025/10/09 14:58:51 ERROR mlflow.xgboost: Failed to log feature importance plot. XGBoost autologging will ignore the failure and continue. Exception: \n",
      "Traceback (most recent call last):\n",
      "  File \"/Users/francoishellebuyck/Documents/projects/openclassrooms/project6/.venv/lib/python3.13/site-packages/mlflow/xgboost/__init__.py\", line 806, in train_impl\n",
      "    log_feature_importance_plot(features, importance, imp_type)\n",
      "    ~~~~~~~~~~~~~~~~~~~~~~~~~~~^^^^^^^^^^^^^^^^^^^^^^^^^^^^^^^^\n",
      "  File \"/Users/francoishellebuyck/Documents/projects/openclassrooms/project6/.venv/lib/python3.13/site-packages/mlflow/xgboost/__init__.py\", line 656, in log_feature_importance_plot\n",
      "    mlflow.log_artifact(filepath)\n",
      "    ~~~~~~~~~~~~~~~~~~~^^^^^^^^^^\n",
      "  File \"/Users/francoishellebuyck/Documents/projects/openclassrooms/project6/.venv/lib/python3.13/site-packages/mlflow/tracking/fluent.py\", line 1429, in log_artifact\n",
      "    MlflowClient().log_artifact(run_id, local_path, artifact_path)\n",
      "    ~~~~~~~~~~~~~~~~~~~~~~~~~~~^^^^^^^^^^^^^^^^^^^^^^^^^^^^^^^^^^^\n",
      "  File \"/Users/francoishellebuyck/Documents/projects/openclassrooms/project6/.venv/lib/python3.13/site-packages/mlflow/tracking/client.py\", line 2497, in log_artifact\n",
      "    self._tracking_client.log_artifact(run_id, local_path, artifact_path)\n",
      "    ~~~~~~~~~~~~~~~~~~~~~~~~~~~~~~~~~~^^^^^^^^^^^^^^^^^^^^^^^^^^^^^^^^^^^\n",
      "  File \"/Users/francoishellebuyck/Documents/projects/openclassrooms/project6/.venv/lib/python3.13/site-packages/mlflow/tracking/_tracking_service/client.py\", line 674, in log_artifact\n",
      "    artifact_repo.log_artifact(local_path, artifact_path)\n",
      "    ~~~~~~~~~~~~~~~~~~~~~~~~~~^^^^^^^^^^^^^^^^^^^^^^^^^^^\n",
      "  File \"/Users/francoishellebuyck/Documents/projects/openclassrooms/project6/.venv/lib/python3.13/site-packages/mlflow/store/artifact/local_artifact_repo.py\", line 44, in log_artifact\n",
      "    mkdir(artifact_dir)\n",
      "    ~~~~~^^^^^^^^^^^^^^\n",
      "  File \"/Users/francoishellebuyck/Documents/projects/openclassrooms/project6/.venv/lib/python3.13/site-packages/mlflow/utils/file_utils.py\", line 209, in mkdir\n",
      "    raise e\n",
      "  File \"/Users/francoishellebuyck/Documents/projects/openclassrooms/project6/.venv/lib/python3.13/site-packages/mlflow/utils/file_utils.py\", line 206, in mkdir\n",
      "    os.makedirs(target, exist_ok=True)\n",
      "    ~~~~~~~~~~~^^^^^^^^^^^^^^^^^^^^^^^\n",
      "  File \"<frozen os>\", line 218, in makedirs\n",
      "  File \"<frozen os>\", line 218, in makedirs\n",
      "  File \"<frozen os>\", line 218, in makedirs\n",
      "  [Previous line repeated 1 more time]\n",
      "  File \"<frozen os>\", line 228, in makedirs\n",
      "OSError: [Errno 30] Read-only file system: '/mlflow'\n",
      "2025/10/09 14:58:51 WARNING mlflow.utils.autologging_utils: Encountered unexpected error during xgboost autologging: [Errno 30] Read-only file system: '/mlflow'\n",
      "2025/10/09 14:58:51 WARNING mlflow.utils.autologging_utils: MLflow autologging encountered a warning: \"/Users/francoishellebuyck/Documents/projects/openclassrooms/project6/.venv/lib/python3.13/site-packages/mlflow/types/utils.py:452: UserWarning: Hint: Inferred schema contains integer column(s). Integer columns in Python cannot represent missing values. If your input data contains missing values at inference time, it will be encoded as floats and will cause a schema enforcement error. The best way to avoid this problem is to infer the model schema based on a realistic data sample (training dataset) that includes missing values. Alternatively, you can declare integer columns as doubles (float64) whenever these columns may have missing values. See `Handling Integers With Missing Values <https://www.mlflow.org/docs/latest/models.html#handling-integers-with-missing-values>`_ for more details.\"\n",
      "2025/10/09 14:58:51 WARNING mlflow.models.model: `artifact_path` is deprecated. Please use `name` instead.\n",
      "2025/10/09 14:58:51 WARNING mlflow.utils.autologging_utils: MLflow autologging encountered a warning: \"/Users/francoishellebuyck/Documents/projects/openclassrooms/project6/.venv/lib/python3.13/site-packages/xgboost/sklearn.py:1028: UserWarning: [14:58:51] WARNING: /Users/runner/work/xgboost/xgboost/src/c_api/c_api.cc:1427: Saving model in the UBJSON format as default.  You can use file extension: `json`, `ubj` or `deprecated` to choose between formats.\"\n",
      "2025/10/09 14:58:53 WARNING mlflow.utils.environment: Failed to resolve installed pip version. ``pip`` will be added to conda.yaml environment spec without a version specifier.\n",
      "2025/10/09 14:58:53 WARNING mlflow.utils.autologging_utils: Encountered unexpected error during xgboost autologging: [Errno 30] Read-only file system: '/mlflow'\n"
     ]
    },
    {
     "name": "stdout",
     "output_type": "stream",
     "text": [
      "🏃 View run stately-vole-344 at: http://127.0.0.1:5010/#/experiments/3/runs/2939dc0f672f4aecb69fb3d4ddc427e9\n",
      "🧪 View experiment at: http://127.0.0.1:5010/#/experiments/3\n",
      "\n",
      "┌--------------------------* PERFORMANCE DU MODÈLE *--------------------------┐\n",
      "├─ Accuracy (Exactitude):       1.000 │ (TP+TN)/(TP+TN+FP+FN)\n",
      "├─ Precision (Précision):       1.000 │ TP/(TP+FP) | Minimiser les faux positifs. \n",
      "├─ Recall (Sensibilité):        1.000 │ TP/(TP+FN) | Minimiser les faux négatif. \n",
      "├─ F1-score:                    1.000 │ 2*Precision*Recall/(Precision+Recall)\n",
      "├─ F2-score:                    1.000 │ 5*Precision*Recall/(4*Precision+Recall) | Privilégie le rappel)\n",
      "└------------------------------------------------------------------------------┘\n",
      "\n",
      "┌---------------------------* MATRICE DE CONFUSION *---------------------------┐\n",
      "├─ RÉALITÉ \\ PRÉDICTION\n",
      "|                      Non         Oui\n",
      "|          Non          86           0\n",
      "|          Oui           0         805\n",
      "|\n",
      "├─ Détail (classe positive = Oui):\n",
      "├─ ✅ Vrais Positifs (TP):  805\n",
      "├─ ❌ Faux Positifs (FP):   0\n",
      "├─ ❌ Faux Négatifs (FN):   0\n",
      "├─ ✅ Vrais Négatifs (TN):  86\n",
      "└------------------------------------------------------------------------------┘\n"
     ]
    }
   ],
   "source": [
    "# Pipeline imblearn (supporte SMOTE)\n",
    "xgb_pipeline = ImbPipeline([\n",
    "    ('oversampling', SMOTE(random_state=42)),\n",
    "    ('model', xgb.XGBClassifier(random_state=42))\n",
    "])\n",
    "\n",
    "# Pas besoin de StandardScaler avec XGBoost\n",
    "xgb_model = xgb_pipeline.fit(X_train, y_train)\n",
    "y_pred = xgb_model.predict(X_test)\n",
    "\n",
    "accuracy, precision, recall, f1, f2 = print_report(\n",
    "    y_test, y_pred, target_names=[\"Non\", \"Oui\"]\n",
    ")\n",
    "\n",
    "xgb_score = {\n",
    "    \"Model\": \"XGBClassifier\",\n",
    "    \"Accuracy\": accuracy,\n",
    "    \"Precision\": precision,\n",
    "    \"Recall\": recall,\n",
    "    \"F1-score\": f1,\n",
    "    \"F2-score\": f2,\n",
    "}\n"
   ]
  },
  {
   "cell_type": "markdown",
   "id": "7b442d14",
   "metadata": {},
   "source": [
    "### 🤖 Lightgbm"
   ]
  },
  {
   "cell_type": "code",
   "execution_count": 13,
   "id": "39d014d2",
   "metadata": {},
   "outputs": [
    {
     "name": "stderr",
     "output_type": "stream",
     "text": [
      "2025/10/09 14:58:53 INFO mlflow.utils.autologging_utils: Created MLflow autologging run with ID 'ba8f8204c89541ab9c7a61140922e379', which will track hyperparameters, performance metrics, model artifacts, and lineage information for the current sklearn workflow\n",
      "2025/10/09 14:58:53 WARNING mlflow.sklearn: Failed to infer model signature: the trained model does not have a `predict` or `transform` function, which is required in order to infer the signature\n",
      "2025/10/09 14:58:53 WARNING mlflow.sklearn: Model was missing function: predict. Not logging python_function flavor!\n",
      "2025/10/09 14:58:54 WARNING mlflow.utils.environment: Failed to resolve installed pip version. ``pip`` will be added to conda.yaml environment spec without a version specifier.\n",
      "2025/10/09 14:58:54 WARNING mlflow.models.model: Failed to validate serving input example {\n",
      "  \"inputs\": [\n",
      "    [\n",
      "      0.0,\n",
      "      55.0,\n",
      "     .... Alternatively, you can avoid passing input example and pass model signature instead when logging the model. To ensure the input example is valid prior to serving, please try calling `mlflow.models.validate_serving_input` on the model uri and serving input example. A serving input example can be generated from model input example using `mlflow.models.convert_input_example_to_serving_input` function.\n",
      "Got error: Model does not have the \"python_function\" flavor\n",
      "2025/10/09 14:58:54 WARNING mlflow.utils.autologging_utils: Encountered unexpected error during sklearn autologging: [Errno 30] Read-only file system: '/mlflow'\n",
      "2025/10/09 14:58:54 INFO mlflow.utils.autologging_utils: Created MLflow autologging run with ID '277fe93cc69b4cf1b1decf2db9d0d319', which will track hyperparameters, performance metrics, model artifacts, and lineage information for the current lightgbm workflow\n",
      "2025/10/09 14:58:54 WARNING mlflow.utils.autologging_utils: MLflow autologging encountered a warning: \"/Users/francoishellebuyck/Documents/projects/openclassrooms/project6/.venv/lib/python3.13/site-packages/mlflow/types/utils.py:452: UserWarning: Hint: Inferred schema contains integer column(s). Integer columns in Python cannot represent missing values. If your input data contains missing values at inference time, it will be encoded as floats and will cause a schema enforcement error. The best way to avoid this problem is to infer the model schema based on a realistic data sample (training dataset) that includes missing values. Alternatively, you can declare integer columns as doubles (float64) whenever these columns may have missing values. See `Handling Integers With Missing Values <https://www.mlflow.org/docs/latest/models.html#handling-integers-with-missing-values>`_ for more details.\"\n"
     ]
    },
    {
     "name": "stdout",
     "output_type": "stream",
     "text": [
      "🏃 View run adorable-frog-360 at: http://127.0.0.1:5010/#/experiments/3/runs/ba8f8204c89541ab9c7a61140922e379\n",
      "🧪 View experiment at: http://127.0.0.1:5010/#/experiments/3\n"
     ]
    },
    {
     "name": "stderr",
     "output_type": "stream",
     "text": [
      "2025/10/09 14:58:55 ERROR mlflow.lightgbm: Failed to log feature importance plot. LightGBM autologging will ignore the failure and continue. Exception: \n",
      "Traceback (most recent call last):\n",
      "  File \"/Users/francoishellebuyck/Documents/projects/openclassrooms/project6/.venv/lib/python3.13/site-packages/mlflow/lightgbm/__init__.py\", line 851, in train_impl\n",
      "    log_feature_importance_plot(features, importance, imp_type)\n",
      "    ~~~~~~~~~~~~~~~~~~~~~~~~~~~^^^^^^^^^^^^^^^^^^^^^^^^^^^^^^^^\n",
      "  File \"/Users/francoishellebuyck/Documents/projects/openclassrooms/project6/.venv/lib/python3.13/site-packages/mlflow/lightgbm/__init__.py\", line 732, in log_feature_importance_plot\n",
      "    mlflow.log_artifact(filepath)\n",
      "    ~~~~~~~~~~~~~~~~~~~^^^^^^^^^^\n",
      "  File \"/Users/francoishellebuyck/Documents/projects/openclassrooms/project6/.venv/lib/python3.13/site-packages/mlflow/tracking/fluent.py\", line 1429, in log_artifact\n",
      "    MlflowClient().log_artifact(run_id, local_path, artifact_path)\n",
      "    ~~~~~~~~~~~~~~~~~~~~~~~~~~~^^^^^^^^^^^^^^^^^^^^^^^^^^^^^^^^^^^\n",
      "  File \"/Users/francoishellebuyck/Documents/projects/openclassrooms/project6/.venv/lib/python3.13/site-packages/mlflow/tracking/client.py\", line 2497, in log_artifact\n",
      "    self._tracking_client.log_artifact(run_id, local_path, artifact_path)\n",
      "    ~~~~~~~~~~~~~~~~~~~~~~~~~~~~~~~~~~^^^^^^^^^^^^^^^^^^^^^^^^^^^^^^^^^^^\n",
      "  File \"/Users/francoishellebuyck/Documents/projects/openclassrooms/project6/.venv/lib/python3.13/site-packages/mlflow/tracking/_tracking_service/client.py\", line 674, in log_artifact\n",
      "    artifact_repo.log_artifact(local_path, artifact_path)\n",
      "    ~~~~~~~~~~~~~~~~~~~~~~~~~~^^^^^^^^^^^^^^^^^^^^^^^^^^^\n",
      "  File \"/Users/francoishellebuyck/Documents/projects/openclassrooms/project6/.venv/lib/python3.13/site-packages/mlflow/store/artifact/local_artifact_repo.py\", line 44, in log_artifact\n",
      "    mkdir(artifact_dir)\n",
      "    ~~~~~^^^^^^^^^^^^^^\n",
      "  File \"/Users/francoishellebuyck/Documents/projects/openclassrooms/project6/.venv/lib/python3.13/site-packages/mlflow/utils/file_utils.py\", line 209, in mkdir\n",
      "    raise e\n",
      "  File \"/Users/francoishellebuyck/Documents/projects/openclassrooms/project6/.venv/lib/python3.13/site-packages/mlflow/utils/file_utils.py\", line 206, in mkdir\n",
      "    os.makedirs(target, exist_ok=True)\n",
      "    ~~~~~~~~~~~^^^^^^^^^^^^^^^^^^^^^^^\n",
      "  File \"<frozen os>\", line 218, in makedirs\n",
      "  File \"<frozen os>\", line 218, in makedirs\n",
      "  File \"<frozen os>\", line 218, in makedirs\n",
      "  [Previous line repeated 1 more time]\n",
      "  File \"<frozen os>\", line 228, in makedirs\n",
      "OSError: [Errno 30] Read-only file system: '/mlflow'\n",
      "2025/10/09 14:58:55 WARNING mlflow.utils.autologging_utils: Encountered unexpected error during lightgbm autologging: [Errno 30] Read-only file system: '/mlflow'\n",
      "2025/10/09 14:58:55 WARNING mlflow.utils.autologging_utils: MLflow autologging encountered a warning: \"/Users/francoishellebuyck/Documents/projects/openclassrooms/project6/.venv/lib/python3.13/site-packages/mlflow/types/utils.py:452: UserWarning: Hint: Inferred schema contains integer column(s). Integer columns in Python cannot represent missing values. If your input data contains missing values at inference time, it will be encoded as floats and will cause a schema enforcement error. The best way to avoid this problem is to infer the model schema based on a realistic data sample (training dataset) that includes missing values. Alternatively, you can declare integer columns as doubles (float64) whenever these columns may have missing values. See `Handling Integers With Missing Values <https://www.mlflow.org/docs/latest/models.html#handling-integers-with-missing-values>`_ for more details.\"\n",
      "2025/10/09 14:58:55 WARNING mlflow.models.model: `artifact_path` is deprecated. Please use `name` instead.\n",
      "2025/10/09 14:58:56 WARNING mlflow.utils.environment: Failed to resolve installed pip version. ``pip`` will be added to conda.yaml environment spec without a version specifier.\n",
      "2025/10/09 14:58:56 WARNING mlflow.utils.autologging_utils: Encountered unexpected error during lightgbm autologging: [Errno 30] Read-only file system: '/mlflow'\n"
     ]
    },
    {
     "name": "stdout",
     "output_type": "stream",
     "text": [
      "🏃 View run bemused-bass-11 at: http://127.0.0.1:5010/#/experiments/3/runs/277fe93cc69b4cf1b1decf2db9d0d319\n",
      "🧪 View experiment at: http://127.0.0.1:5010/#/experiments/3\n",
      "\n",
      "┌--------------------------* PERFORMANCE DU MODÈLE *--------------------------┐\n",
      "├─ Accuracy (Exactitude):       1.000 │ (TP+TN)/(TP+TN+FP+FN)\n",
      "├─ Precision (Précision):       1.000 │ TP/(TP+FP) | Minimiser les faux positifs. \n",
      "├─ Recall (Sensibilité):        1.000 │ TP/(TP+FN) | Minimiser les faux négatif. \n",
      "├─ F1-score:                    1.000 │ 2*Precision*Recall/(Precision+Recall)\n",
      "├─ F2-score:                    1.000 │ 5*Precision*Recall/(4*Precision+Recall) | Privilégie le rappel)\n",
      "└------------------------------------------------------------------------------┘\n",
      "\n",
      "┌---------------------------* MATRICE DE CONFUSION *---------------------------┐\n",
      "├─ RÉALITÉ \\ PRÉDICTION\n",
      "|                      Non         Oui\n",
      "|          Non          86           0\n",
      "|          Oui           0         805\n",
      "|\n",
      "├─ Détail (classe positive = Oui):\n",
      "├─ ✅ Vrais Positifs (TP):  805\n",
      "├─ ❌ Faux Positifs (FP):   0\n",
      "├─ ❌ Faux Négatifs (FN):   0\n",
      "├─ ✅ Vrais Négatifs (TN):  86\n",
      "└------------------------------------------------------------------------------┘\n"
     ]
    }
   ],
   "source": [
    "import lightgbm as lgb\n",
    "from imblearn.pipeline import Pipeline as ImbPipeline\n",
    "from imblearn.over_sampling import SMOTE\n",
    "from sklearn.model_selection import train_test_split\n",
    "from sklearn.metrics import classification_report\n",
    "\n",
    "# Créer le pipeline avec SMOTE et LightGBM\n",
    "lgb_pipeline = ImbPipeline([\n",
    "    ('oversampling', SMOTE(random_state=42)),\n",
    "    ('model', lgb.LGBMClassifier(\n",
    "        random_state=42,\n",
    "        verbose=-1  # Désactiver les warnings\n",
    "    ))\n",
    "])\n",
    "\n",
    "# Entraîner le modèle\n",
    "lgb_pipeline.fit(X_train, y_train)\n",
    "\n",
    "# Prédire\n",
    "y_pred = lgb_pipeline.predict(X_test)\n",
    "\n",
    "# Évaluation\n",
    "accuracy, precision, recall, f1, f2 = print_report(\n",
    "    y_test, y_pred, target_names=[\"Non\", \"Oui\"]\n",
    ")\n",
    "\n",
    "lgb_score = {\n",
    "    \"Model\": \"LightGBM\",\n",
    "    \"Accuracy\": accuracy,\n",
    "    \"Precision\": precision,\n",
    "    \"Recall\": recall,\n",
    "    \"F1-score\": f1,\n",
    "    \"F2-score\": f2,\n",
    "}\n"
   ]
  },
  {
   "cell_type": "code",
   "execution_count": null,
   "id": "ae3e611d",
   "metadata": {},
   "outputs": [],
   "source": []
  }
 ],
 "metadata": {
  "kernelspec": {
   "display_name": "project6",
   "language": "python",
   "name": "python3"
  },
  "language_info": {
   "codemirror_mode": {
    "name": "ipython",
    "version": 3
   },
   "file_extension": ".py",
   "mimetype": "text/x-python",
   "name": "python",
   "nbconvert_exporter": "python",
   "pygments_lexer": "ipython3",
   "version": "3.13.5"
  }
 },
 "nbformat": 4,
 "nbformat_minor": 5
}
