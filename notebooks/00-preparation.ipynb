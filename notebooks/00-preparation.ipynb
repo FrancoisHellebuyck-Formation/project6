{
 "cells": [
  {
   "cell_type": "markdown",
   "id": "5a1f8a2a",
   "metadata": {},
   "source": [
    "# ⚙️ Initiez-vous au MLOps (partie 1/2)\n",
    "\n",
    "## 🫁 Detection du cancer du poumon\n",
    "\n",
    "L'efficacité du système de prédiction du cancer aide les personnes à connaître leur risque de cancer à faible coût et les aide également à prendre la décision appropriée en fonction de leur statut de risque de cancer. Les données sont collectées à partir du site web du système de prédiction en ligne du cancer du poumon."
   ]
  },
  {
   "cell_type": "markdown",
   "id": "a86a8646",
   "metadata": {},
   "source": [
    "###  📦 Initialisation du notebook"
   ]
  },
  {
   "cell_type": "code",
   "execution_count": 3,
   "id": "c259302e",
   "metadata": {},
   "outputs": [],
   "source": [
    "import sys\n",
    "import os\n",
    "sys.path.append(os.path.dirname(os.path.dirname(os.path.abspath('__file__'))))\n",
    "\n",
    "import numpy as np\n",
    "import pandas as pd\n",
    "from src.visualization.visu_text import quick_df_info"
   ]
  },
  {
   "cell_type": "markdown",
   "id": "743b9ac6",
   "metadata": {},
   "source": [
    "### 📋 Chargement des données brutes\n",
    "\n",
    "**Nombre total d'attributs : 16**\n",
    "\n",
    "| N° | Original (Anglais) | Traduction française | Valeurs |\n",
    "|----|-------------------|---------------------|---------|\n",
    "| 1  | Gender: M(male), F(female) | Genre : H(homme), F(femme) | M/F ou H/F |\n",
    "| 2  | Age: Age of the patient | Âge : Âge du patient | Numérique |\n",
    "| 3  | Smoking: YES=2, NO=1 | Tabagisme : OUI=2, NON=1 | 1 ou 2 |\n",
    "| 4  | Yellow fingers: YES=2, NO=1 | Doigts jaunes : OUI=2, NON=1 | 1 ou 2 |\n",
    "| 5  | Anxiety: YES=2, NO=1 | Anxiété : OUI=2, NON=1 | 1 ou 2 |\n",
    "| 6  | Peer_pressure: YES=2, NO=1 | Influence sociale tabagique : OUI=2, NON=1 | 1 ou 2 |\n",
    "| 7  | Chronic Disease: YES=2, NO=1 | Maladie chronique : OUI=2, NON=1 | 1 ou 2 |\n",
    "| 8  | Fatigue: YES=2, NO=1 | Fatigue : OUI=2, NON=1 | 1 ou 2 |\n",
    "| 9  | Allergy: YES=2, NO=1 | Allergie : OUI=2, NON=1 | 1 ou 2 |\n",
    "| 10 | Wheezing: YES=2, NO=1 | Sifflement respiratoire : OUI=2, NON=1 | 1 ou 2 |\n",
    "| 11 | Alcohol: YES=2, NO=1 | Alcool : OUI=2, NON=1 | 1 ou 2 |\n",
    "| 12 | Coughing: YES=2, NO=1 | Toux : OUI=2, NON=1 | 1 ou 2 |\n",
    "| 13 | Shortness of Breath: YES=2, NO=1 | Essoufflement : OUI=2, NON=1 | 1 ou 2 |\n",
    "| 14 | Swallowing Difficulty: YES=2, NO=1 | Difficulté de déglutition : OUI=2, NON=1 | 1 ou 2 |\n",
    "| 15 | Chest pain: YES=2, NO=1 | Douleur thoracique : OUI=2, NON=1 | 1 ou 2 |\n",
    "| 16 | Lung Cancer: YES, NO | Cancer du poumon : OUI, NON | OUI/NON |\n",
    "\n",
    "## Notes\n",
    "- Les attributs 3-15 utilisent un codage binaire : 1=NON, 2=OUI\n",
    "- L'attribut 16 (Cancer du poumon) semble être la variable cible du dataset\n",
    "- Ce dataset paraît être conçu pour la prédiction du cancer du poumon basée sur des facteurs de risque et symptômes\n"
   ]
  },
  {
   "cell_type": "code",
   "execution_count": 17,
   "id": "2b6f7dba",
   "metadata": {},
   "outputs": [
    {
     "name": "stdout",
     "output_type": "stream",
     "text": [
      "\n",
      "┌------------------------------* Données brutes *------------------------------┐\n",
      "├─------- Shape: (4455, 16) - Colonnes:\n",
      "├─GENDER                    object    \n",
      "├─AGE                       int64     \n",
      "├─SMOKING                   int64     \n",
      "├─YELLOW_FINGERS            int64     \n",
      "├─ANXIETY                   int64     \n",
      "├─PEER_PRESSURE             int64     \n",
      "├─CHRONIC DISEASE           int64     \n",
      "├─FATIGUE                   int64     \n",
      "├─ALLERGY                   int64     \n",
      "├─WHEEZING                  int64     \n",
      "├─ALCOHOL CONSUMING         int64     \n",
      "├─COUGHING                  int64     \n",
      "├─SHORTNESS OF BREATH       int64     \n",
      "├─SWALLOWING DIFFICULTY     int64     \n",
      "├─CHEST PAIN                int64     \n",
      "├─LUNG_CANCER               object    \n",
      "└------------------------------------------------------------------------------┘\n"
     ]
    }
   ],
   "source": [
    "raw_df = pd.read_csv(\"../data/raw/survey_lung_cancer.csv\")\n",
    "quick_df_info(raw_df, \"Données brutes\")"
   ]
  },
  {
   "cell_type": "markdown",
   "id": "e5965ee9",
   "metadata": {},
   "source": [
    "### 🛠 Transformation des données en binaire \n",
    "- GENDER F=0, M=1\n",
    "- LUNG_CANCER NO=0, YES=1 \n",
    "- AUTRES 1=0, 2=1"
   ]
  },
  {
   "cell_type": "code",
   "execution_count": 18,
   "id": "b7ca0576",
   "metadata": {},
   "outputs": [
    {
     "data": {
      "application/vnd.microsoft.datawrangler.viewer.v0+json": {
       "columns": [
        {
         "name": "index",
         "rawType": "int64",
         "type": "integer"
        },
        {
         "name": "GENDER",
         "rawType": "int64",
         "type": "integer"
        },
        {
         "name": "AGE",
         "rawType": "int64",
         "type": "integer"
        },
        {
         "name": "SMOKING",
         "rawType": "int64",
         "type": "integer"
        },
        {
         "name": "YELLOW_FINGERS",
         "rawType": "int64",
         "type": "integer"
        },
        {
         "name": "ANXIETY",
         "rawType": "int64",
         "type": "integer"
        },
        {
         "name": "PEER_PRESSURE",
         "rawType": "int64",
         "type": "integer"
        },
        {
         "name": "CHRONIC DISEASE",
         "rawType": "int64",
         "type": "integer"
        },
        {
         "name": "FATIGUE ",
         "rawType": "int64",
         "type": "integer"
        },
        {
         "name": "ALLERGY ",
         "rawType": "int64",
         "type": "integer"
        },
        {
         "name": "WHEEZING",
         "rawType": "int64",
         "type": "integer"
        },
        {
         "name": "ALCOHOL CONSUMING",
         "rawType": "int64",
         "type": "integer"
        },
        {
         "name": "COUGHING",
         "rawType": "int64",
         "type": "integer"
        },
        {
         "name": "SHORTNESS OF BREATH",
         "rawType": "int64",
         "type": "integer"
        },
        {
         "name": "SWALLOWING DIFFICULTY",
         "rawType": "int64",
         "type": "integer"
        },
        {
         "name": "CHEST PAIN",
         "rawType": "int64",
         "type": "integer"
        },
        {
         "name": "LUNG_CANCER",
         "rawType": "int64",
         "type": "integer"
        }
       ],
       "ref": "178cf1b7-5539-4399-8903-33c868703fb1",
       "rows": [
        [
         "0",
         "1",
         "69",
         "0",
         "1",
         "1",
         "0",
         "0",
         "1",
         "0",
         "1",
         "1",
         "1",
         "1",
         "1",
         "1",
         "1"
        ],
        [
         "1",
         "1",
         "74",
         "1",
         "0",
         "0",
         "0",
         "1",
         "1",
         "1",
         "0",
         "0",
         "0",
         "1",
         "1",
         "1",
         "1"
        ],
        [
         "2",
         "0",
         "59",
         "0",
         "0",
         "0",
         "1",
         "0",
         "1",
         "0",
         "1",
         "0",
         "1",
         "1",
         "0",
         "1",
         "0"
        ],
        [
         "3",
         "1",
         "63",
         "1",
         "1",
         "1",
         "0",
         "0",
         "0",
         "0",
         "0",
         "1",
         "0",
         "0",
         "1",
         "1",
         "0"
        ],
        [
         "4",
         "0",
         "63",
         "0",
         "1",
         "0",
         "0",
         "0",
         "0",
         "0",
         "1",
         "0",
         "1",
         "1",
         "0",
         "0",
         "0"
        ]
       ],
       "shape": {
        "columns": 16,
        "rows": 5
       }
      },
      "text/html": [
       "<div>\n",
       "<style scoped>\n",
       "    .dataframe tbody tr th:only-of-type {\n",
       "        vertical-align: middle;\n",
       "    }\n",
       "\n",
       "    .dataframe tbody tr th {\n",
       "        vertical-align: top;\n",
       "    }\n",
       "\n",
       "    .dataframe thead th {\n",
       "        text-align: right;\n",
       "    }\n",
       "</style>\n",
       "<table border=\"1\" class=\"dataframe\">\n",
       "  <thead>\n",
       "    <tr style=\"text-align: right;\">\n",
       "      <th></th>\n",
       "      <th>GENDER</th>\n",
       "      <th>AGE</th>\n",
       "      <th>SMOKING</th>\n",
       "      <th>YELLOW_FINGERS</th>\n",
       "      <th>ANXIETY</th>\n",
       "      <th>PEER_PRESSURE</th>\n",
       "      <th>CHRONIC DISEASE</th>\n",
       "      <th>FATIGUE</th>\n",
       "      <th>ALLERGY</th>\n",
       "      <th>WHEEZING</th>\n",
       "      <th>ALCOHOL CONSUMING</th>\n",
       "      <th>COUGHING</th>\n",
       "      <th>SHORTNESS OF BREATH</th>\n",
       "      <th>SWALLOWING DIFFICULTY</th>\n",
       "      <th>CHEST PAIN</th>\n",
       "      <th>LUNG_CANCER</th>\n",
       "    </tr>\n",
       "  </thead>\n",
       "  <tbody>\n",
       "    <tr>\n",
       "      <th>0</th>\n",
       "      <td>1</td>\n",
       "      <td>69</td>\n",
       "      <td>0</td>\n",
       "      <td>1</td>\n",
       "      <td>1</td>\n",
       "      <td>0</td>\n",
       "      <td>0</td>\n",
       "      <td>1</td>\n",
       "      <td>0</td>\n",
       "      <td>1</td>\n",
       "      <td>1</td>\n",
       "      <td>1</td>\n",
       "      <td>1</td>\n",
       "      <td>1</td>\n",
       "      <td>1</td>\n",
       "      <td>1</td>\n",
       "    </tr>\n",
       "    <tr>\n",
       "      <th>1</th>\n",
       "      <td>1</td>\n",
       "      <td>74</td>\n",
       "      <td>1</td>\n",
       "      <td>0</td>\n",
       "      <td>0</td>\n",
       "      <td>0</td>\n",
       "      <td>1</td>\n",
       "      <td>1</td>\n",
       "      <td>1</td>\n",
       "      <td>0</td>\n",
       "      <td>0</td>\n",
       "      <td>0</td>\n",
       "      <td>1</td>\n",
       "      <td>1</td>\n",
       "      <td>1</td>\n",
       "      <td>1</td>\n",
       "    </tr>\n",
       "    <tr>\n",
       "      <th>2</th>\n",
       "      <td>0</td>\n",
       "      <td>59</td>\n",
       "      <td>0</td>\n",
       "      <td>0</td>\n",
       "      <td>0</td>\n",
       "      <td>1</td>\n",
       "      <td>0</td>\n",
       "      <td>1</td>\n",
       "      <td>0</td>\n",
       "      <td>1</td>\n",
       "      <td>0</td>\n",
       "      <td>1</td>\n",
       "      <td>1</td>\n",
       "      <td>0</td>\n",
       "      <td>1</td>\n",
       "      <td>0</td>\n",
       "    </tr>\n",
       "    <tr>\n",
       "      <th>3</th>\n",
       "      <td>1</td>\n",
       "      <td>63</td>\n",
       "      <td>1</td>\n",
       "      <td>1</td>\n",
       "      <td>1</td>\n",
       "      <td>0</td>\n",
       "      <td>0</td>\n",
       "      <td>0</td>\n",
       "      <td>0</td>\n",
       "      <td>0</td>\n",
       "      <td>1</td>\n",
       "      <td>0</td>\n",
       "      <td>0</td>\n",
       "      <td>1</td>\n",
       "      <td>1</td>\n",
       "      <td>0</td>\n",
       "    </tr>\n",
       "    <tr>\n",
       "      <th>4</th>\n",
       "      <td>0</td>\n",
       "      <td>63</td>\n",
       "      <td>0</td>\n",
       "      <td>1</td>\n",
       "      <td>0</td>\n",
       "      <td>0</td>\n",
       "      <td>0</td>\n",
       "      <td>0</td>\n",
       "      <td>0</td>\n",
       "      <td>1</td>\n",
       "      <td>0</td>\n",
       "      <td>1</td>\n",
       "      <td>1</td>\n",
       "      <td>0</td>\n",
       "      <td>0</td>\n",
       "      <td>0</td>\n",
       "    </tr>\n",
       "  </tbody>\n",
       "</table>\n",
       "</div>"
      ],
      "text/plain": [
       "   GENDER  AGE  SMOKING  YELLOW_FINGERS  ANXIETY  PEER_PRESSURE  \\\n",
       "0       1   69        0               1        1              0   \n",
       "1       1   74        1               0        0              0   \n",
       "2       0   59        0               0        0              1   \n",
       "3       1   63        1               1        1              0   \n",
       "4       0   63        0               1        0              0   \n",
       "\n",
       "   CHRONIC DISEASE  FATIGUE   ALLERGY   WHEEZING  ALCOHOL CONSUMING  COUGHING  \\\n",
       "0                0         1         0         1                  1         1   \n",
       "1                1         1         1         0                  0         0   \n",
       "2                0         1         0         1                  0         1   \n",
       "3                0         0         0         0                  1         0   \n",
       "4                0         0         0         1                  0         1   \n",
       "\n",
       "   SHORTNESS OF BREATH  SWALLOWING DIFFICULTY  CHEST PAIN  LUNG_CANCER  \n",
       "0                    1                      1           1            1  \n",
       "1                    1                      1           1            1  \n",
       "2                    1                      0           1            0  \n",
       "3                    0                      1           1            0  \n",
       "4                    1                      0           0            0  "
      ]
     },
     "execution_count": 18,
     "metadata": {},
     "output_type": "execute_result"
    }
   ],
   "source": [
    "cols = raw_df.columns.tolist()\n",
    "delete = [\"LUNG_CANCER\", \"GENDER\", \"AGE\"]\n",
    "cols = [x for x in cols if x not in delete]\n",
    "for col in cols:\n",
    "    raw_df[col] = raw_df[col].map({1: 0, 2: 1})\n",
    "raw_df[\"GENDER\"] = raw_df[\"GENDER\"].map({\"F\": 0, \"M\": 1})\n",
    "raw_df[\"LUNG_CANCER\"] = raw_df[\"LUNG_CANCER\"].map({\"NO\": 0, \"YES\": 1})\n",
    "raw_df.head()"
   ]
  },
  {
   "cell_type": "markdown",
   "id": "bb2e1ef9",
   "metadata": {},
   "source": [
    "### 🧽 Sauvegarde du JDD nettoyé"
   ]
  },
  {
   "cell_type": "code",
   "execution_count": 19,
   "id": "e727a155",
   "metadata": {},
   "outputs": [],
   "source": [
    "raw_df.to_csv(\"../data/processed/survey_lung_cancer_clean.csv\")"
   ]
  }
 ],
 "metadata": {
  "kernelspec": {
   "display_name": "project6",
   "language": "python",
   "name": "python3"
  },
  "language_info": {
   "codemirror_mode": {
    "name": "ipython",
    "version": 3
   },
   "file_extension": ".py",
   "mimetype": "text/x-python",
   "name": "python",
   "nbconvert_exporter": "python",
   "pygments_lexer": "ipython3",
   "version": "3.13.5"
  }
 },
 "nbformat": 4,
 "nbformat_minor": 5
}
