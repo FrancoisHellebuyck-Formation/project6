{
 "cells": [
  {
   "cell_type": "markdown",
   "id": "5a1f8a2a",
   "metadata": {},
   "source": [
    "# ⚙️ Initiez-vous au MLOps (partie 1/2)\n",
    "\n",
    "## 🫁 Detection du cancer du poumon\n",
    "\n",
    "L'efficacité du système de prédiction du cancer aide les personnes à connaître leur risque de cancer à faible coût et les aide également à prendre la décision appropriée en fonction de leur statut de risque de cancer. Les données sont collectées à partir du site web du système de prédiction en ligne du cancer du poumon."
   ]
  },
  {
   "cell_type": "markdown",
   "id": "a86a8646",
   "metadata": {},
   "source": [
    "###  📦 Initialisation du notebook"
   ]
  },
  {
   "cell_type": "code",
   "execution_count": 31,
   "id": "c259302e",
   "metadata": {},
   "outputs": [],
   "source": [
    "import sys\n",
    "import os\n",
    "sys.path.append(os.path.dirname(os.path.dirname(os.path.abspath('__file__'))))\n",
    "\n",
    "import numpy as np\n",
    "import pandas as pd\n",
    "from src.visualization.visu_text import quick_df_info"
   ]
  },
  {
   "cell_type": "markdown",
   "id": "4ddd9e8c",
   "metadata": {},
   "source": [
    "### 🔗Préparation du dataset, merge des 2 fichiers csv"
   ]
  },
  {
   "cell_type": "code",
   "execution_count": 32,
   "id": "ec49529e",
   "metadata": {},
   "outputs": [
    {
     "name": "stdout",
     "output_type": "stream",
     "text": [
      "\n",
      "┌------------------------* Données brutes du patient *------------------------┐\n",
      "├─------- Shape: (20000, 4) - Colonnes:\n",
      "├─ID                        int64     \n",
      "├─GENDER                    object    \n",
      "├─AGE                       float64   \n",
      "├─LUNG_CANCER               object    \n",
      "└------------------------------------------------------------------------------┘\n",
      "\n",
      "┌------------------------* Données brutes des risques *------------------------┐\n",
      "├─------- Shape: (20000, 14) - Colonnes:\n",
      "├─ID                        int64     \n",
      "├─SMOKING                   object    \n",
      "├─YELLOW_FINGERS            object    \n",
      "├─ANXIETY                   object    \n",
      "├─PEER_PRESSURE             object    \n",
      "├─CHRONIC DISEASE           object    \n",
      "├─FATIGUE                   object    \n",
      "├─ALLERGY                   object    \n",
      "├─WHEEZING                  object    \n",
      "├─ALCOHOL CONSUMING         object    \n",
      "├─COUGHING                  object    \n",
      "├─SHORTNESS OF BREATH       object    \n",
      "├─SWALLOWING DIFFICULTY     object    \n",
      "├─CHEST PAIN                object    \n",
      "└------------------------------------------------------------------------------┘\n"
     ]
    }
   ],
   "source": [
    "raw_df_patient = pd.read_csv(\"../data/raw/Patient_Lung_Cancer_Dataset.csv\", sep=\";\")\n",
    "quick_df_info(raw_df_patient, \"Données brutes du patient\")\n",
    "raw_df_risks = pd.read_csv(\"../data/raw/Risks_Factors_Lung_Cancer_Dataset.csv\", sep=\";\")\n",
    "quick_df_info(raw_df_risks, \"Données brutes des risques\")"
   ]
  },
  {
   "cell_type": "markdown",
   "id": "56b98a7b",
   "metadata": {},
   "source": [
    "On effectue la jointure sur l'ID, pour avoir un fichier unique"
   ]
  },
  {
   "cell_type": "code",
   "execution_count": 33,
   "id": "928dda8d",
   "metadata": {},
   "outputs": [
    {
     "name": "stdout",
     "output_type": "stream",
     "text": [
      "\n",
      "┌------------------------* Données brutes fusionnées *------------------------┐\n",
      "├─------- Shape: (20000, 17) - Colonnes:\n",
      "├─ID                        int64     \n",
      "├─GENDER                    object    \n",
      "├─AGE                       float64   \n",
      "├─LUNG_CANCER               object    \n",
      "├─SMOKING                   object    \n",
      "├─YELLOW_FINGERS            object    \n",
      "├─ANXIETY                   object    \n",
      "├─PEER_PRESSURE             object    \n",
      "├─CHRONIC DISEASE           object    \n",
      "├─FATIGUE                   object    \n",
      "├─ALLERGY                   object    \n",
      "├─WHEEZING                  object    \n",
      "├─ALCOHOL CONSUMING         object    \n",
      "├─COUGHING                  object    \n",
      "├─SHORTNESS OF BREATH       object    \n",
      "├─SWALLOWING DIFFICULTY     object    \n",
      "├─CHEST PAIN                object    \n",
      "└------------------------------------------------------------------------------┘\n"
     ]
    }
   ],
   "source": [
    "df_raw_result = pd.merge(raw_df_patient, raw_df_risks, on='ID')\n",
    "quick_df_info(df_raw_result, \"Données brutes fusionnées\")"
   ]
  },
  {
   "cell_type": "code",
   "execution_count": 34,
   "id": "a1be9169",
   "metadata": {},
   "outputs": [
    {
     "name": "stdout",
     "output_type": "stream",
     "text": [
      "⚠️  2131 valeur(s) manquante(s) détectée(s)\n",
      "<class 'pandas.core.frame.DataFrame'>\n",
      "RangeIndex: 20000 entries, 0 to 19999\n",
      "Data columns (total 17 columns):\n",
      " #   Column                 Non-Null Count  Dtype  \n",
      "---  ------                 --------------  -----  \n",
      " 0   ID                     20000 non-null  int64  \n",
      " 1   GENDER                 20000 non-null  object \n",
      " 2   AGE                    19942 non-null  float64\n",
      " 3   LUNG_CANCER            20000 non-null  object \n",
      " 4   SMOKING                19607 non-null  object \n",
      " 5   YELLOW_FINGERS         20000 non-null  object \n",
      " 6   ANXIETY                20000 non-null  object \n",
      " 7   PEER_PRESSURE          20000 non-null  object \n",
      " 8   CHRONIC DISEASE        20000 non-null  object \n",
      " 9   FATIGUE                20000 non-null  object \n",
      " 10  ALLERGY                20000 non-null  object \n",
      " 11  WHEEZING               19057 non-null  object \n",
      " 12  ALCOHOL CONSUMING      19348 non-null  object \n",
      " 13  COUGHING               20000 non-null  object \n",
      " 14  SHORTNESS OF BREATH    19915 non-null  object \n",
      " 15  SWALLOWING DIFFICULTY  20000 non-null  object \n",
      " 16  CHEST PAIN             20000 non-null  object \n",
      "dtypes: float64(1), int64(1), object(15)\n",
      "memory usage: 2.6+ MB\n"
     ]
    }
   ],
   "source": [
    "total_missing = df_raw_result.isnull().sum().sum()\n",
    "if total_missing == 0:\n",
    "    print(\"✅ Aucune valeur manquante détectée !\")\n",
    "else:\n",
    "    print(f\"⚠️  {total_missing} valeur(s) manquante(s) détectée(s)\")\n",
    "\n",
    "df_raw_result.info()"
   ]
  },
  {
   "cell_type": "code",
   "execution_count": 35,
   "id": "b8d29a24",
   "metadata": {},
   "outputs": [
    {
     "name": "stdout",
     "output_type": "stream",
     "text": [
      "<class 'pandas.core.frame.DataFrame'>\n",
      "Index: 17940 entries, 0 to 19999\n",
      "Data columns (total 17 columns):\n",
      " #   Column                 Non-Null Count  Dtype  \n",
      "---  ------                 --------------  -----  \n",
      " 0   ID                     17940 non-null  int64  \n",
      " 1   GENDER                 17940 non-null  object \n",
      " 2   AGE                    17940 non-null  float64\n",
      " 3   LUNG_CANCER            17940 non-null  object \n",
      " 4   SMOKING                17940 non-null  object \n",
      " 5   YELLOW_FINGERS         17940 non-null  object \n",
      " 6   ANXIETY                17940 non-null  object \n",
      " 7   PEER_PRESSURE          17940 non-null  object \n",
      " 8   CHRONIC DISEASE        17940 non-null  object \n",
      " 9   FATIGUE                17940 non-null  object \n",
      " 10  ALLERGY                17940 non-null  object \n",
      " 11  WHEEZING               17940 non-null  object \n",
      " 12  ALCOHOL CONSUMING      17940 non-null  object \n",
      " 13  COUGHING               17940 non-null  object \n",
      " 14  SHORTNESS OF BREATH    17940 non-null  object \n",
      " 15  SWALLOWING DIFFICULTY  17940 non-null  object \n",
      " 16  CHEST PAIN             17940 non-null  object \n",
      "dtypes: float64(1), int64(1), object(15)\n",
      "memory usage: 2.5+ MB\n"
     ]
    }
   ],
   "source": [
    "# Suppression des données manquantes\n",
    "df_raw_result.dropna(inplace=True) # Pas de données manquantes dans ce dataset\n",
    "df_raw_result.info()"
   ]
  },
  {
   "cell_type": "markdown",
   "id": "e5965ee9",
   "metadata": {},
   "source": [
    "### 🛠 Transformation des données en binaire \n",
    "- GENDER F=0, M=1\n",
    "- LUNG_CANCER NO=0, YES=1 \n",
    "- AUTRES NO=0, YES=1 "
   ]
  },
  {
   "cell_type": "code",
   "execution_count": null,
   "id": "b7ca0576",
   "metadata": {},
   "outputs": [
    {
     "name": "stdout",
     "output_type": "stream",
     "text": [
      "<class 'pandas.core.frame.DataFrame'>\n",
      "Index: 17940 entries, 0 to 19999\n",
      "Data columns (total 17 columns):\n",
      " #   Column                 Non-Null Count  Dtype  \n",
      "---  ------                 --------------  -----  \n",
      " 0   ID                     17940 non-null  int64  \n",
      " 1   GENDER                 17940 non-null  int64  \n",
      " 2   AGE                    17940 non-null  float64\n",
      " 3   LUNG_CANCER            17940 non-null  int64  \n",
      " 4   SMOKING                17940 non-null  int64  \n",
      " 5   YELLOW_FINGERS         17940 non-null  int64  \n",
      " 6   ANXIETY                17940 non-null  int64  \n",
      " 7   PEER_PRESSURE          17940 non-null  int64  \n",
      " 8   CHRONIC DISEASE        17940 non-null  int64  \n",
      " 9   FATIGUE                17940 non-null  int64  \n",
      " 10  ALLERGY                17940 non-null  int64  \n",
      " 11  WHEEZING               17940 non-null  int64  \n",
      " 12  ALCOHOL CONSUMING      17940 non-null  int64  \n",
      " 13  COUGHING               17940 non-null  int64  \n",
      " 14  SHORTNESS OF BREATH    17940 non-null  int64  \n",
      " 15  SWALLOWING DIFFICULTY  17940 non-null  int64  \n",
      " 16  CHEST PAIN             17940 non-null  int64  \n",
      "dtypes: float64(1), int64(16)\n",
      "memory usage: 2.5 MB\n"
     ]
    }
   ],
   "source": [
    "cols = df_raw_result.columns.tolist()\n",
    "delete = [\"LUNG_CANCER\", \"GENDER\", \"AGE\",\"ID\"]\n",
    "cols = [x for x in cols if x not in delete]\n",
    "for col in cols:\n",
    "    df_raw_result[col] = df_raw_result[col].map({'NO': 0, 'YES': 1}).astype(int)\n",
    "df_raw_result[\"GENDER\"] = df_raw_result[\"GENDER\"].map({\"F\": 0, \"M\": 1})\n",
    "df_raw_result[\"LUNG_CANCER\"] = df_raw_result[\"LUNG_CANCER\"].map({\"NO\": 0, \"YES\": 1})\n",
    "\n",
    "df_raw_result.info()"
   ]
  },
  {
   "cell_type": "markdown",
   "id": "bb2e1ef9",
   "metadata": {},
   "source": [
    "### 🧽 Sauvegarde du JDD nettoyé"
   ]
  },
  {
   "cell_type": "code",
   "execution_count": 38,
   "id": "e727a155",
   "metadata": {},
   "outputs": [],
   "source": [
    "df_raw_result.to_csv(\"../data/processed/survey_lung_cancer_clean.csv\", index=False)"
   ]
  }
 ],
 "metadata": {
  "kernelspec": {
   "display_name": "project6",
   "language": "python",
   "name": "python3"
  },
  "language_info": {
   "codemirror_mode": {
    "name": "ipython",
    "version": 3
   },
   "file_extension": ".py",
   "mimetype": "text/x-python",
   "name": "python",
   "nbconvert_exporter": "python",
   "pygments_lexer": "ipython3",
   "version": "3.13.5"
  }
 },
 "nbformat": 4,
 "nbformat_minor": 5
}
