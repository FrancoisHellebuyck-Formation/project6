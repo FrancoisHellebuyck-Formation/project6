{
 "cells": [
  {
   "cell_type": "markdown",
   "id": "5a1f8a2a",
   "metadata": {},
   "source": [
    "# ⚙️ Initiez-vous au MLOps (partie 1/2)\n",
    "\n",
    "## 🫁 Detection du cancer du poumon\n",
    "\n",
    "L'efficacité du système de prédiction du cancer aide les personnes à connaître leur risque de cancer à faible coût et les aide également à prendre la décision appropriée en fonction de leur statut de risque de cancer. Les données sont collectées à partir du site web du système de prédiction en ligne du cancer du poumon."
   ]
  },
  {
   "cell_type": "markdown",
   "id": "a86a8646",
   "metadata": {},
   "source": [
    "###  📦 Initialisation du notebook"
   ]
  },
  {
   "cell_type": "code",
   "execution_count": 1,
   "id": "c259302e",
   "metadata": {},
   "outputs": [],
   "source": [
    "import sys\n",
    "import os\n",
    "sys.path.append(os.path.dirname(os.path.dirname(os.path.abspath('__file__'))))\n",
    "\n",
    "import numpy as np\n",
    "import pandas as pd\n",
    "from src.visualization.visu_text import quick_df_info"
   ]
  },
  {
   "cell_type": "markdown",
   "id": "743b9ac6",
   "metadata": {},
   "source": [
    "### 📋 Chargement des données brutes\n",
    "\n",
    "**Nombre total d'attributs : 16**\n",
    "\n",
    "| N° | Original (Anglais) | Traduction française | Valeurs |\n",
    "|----|-------------------|---------------------|---------|\n",
    "| 1  | Gender: M(male), F(female) | Genre : H(homme), F(femme) | M/F ou H/F |\n",
    "| 2  | Age: Age of the patient | Âge : Âge du patient | Numérique |\n",
    "| 3  | Smoking: YES=2, NO=1 | Tabagisme : OUI=2, NON=1 | 1 ou 2 |\n",
    "| 4  | Yellow fingers: YES=2, NO=1 | Doigts jaunes : OUI=2, NON=1 | 1 ou 2 |\n",
    "| 5  | Anxiety: YES=2, NO=1 | Anxiété : OUI=2, NON=1 | 1 ou 2 |\n",
    "| 6  | Peer_pressure: YES=2, NO=1 | Influence sociale tabagique : OUI=2, NON=1 | 1 ou 2 |\n",
    "| 7  | Chronic Disease: YES=2, NO=1 | Maladie chronique : OUI=2, NON=1 | 1 ou 2 |\n",
    "| 8  | Fatigue: YES=2, NO=1 | Fatigue : OUI=2, NON=1 | 1 ou 2 |\n",
    "| 9  | Allergy: YES=2, NO=1 | Allergie : OUI=2, NON=1 | 1 ou 2 |\n",
    "| 10 | Wheezing: YES=2, NO=1 | Sifflement respiratoire : OUI=2, NON=1 | 1 ou 2 |\n",
    "| 11 | Alcohol: YES=2, NO=1 | Alcool : OUI=2, NON=1 | 1 ou 2 |\n",
    "| 12 | Coughing: YES=2, NO=1 | Toux : OUI=2, NON=1 | 1 ou 2 |\n",
    "| 13 | Shortness of Breath: YES=2, NO=1 | Essoufflement : OUI=2, NON=1 | 1 ou 2 |\n",
    "| 14 | Swallowing Difficulty: YES=2, NO=1 | Difficulté de déglutition : OUI=2, NON=1 | 1 ou 2 |\n",
    "| 15 | Chest pain: YES=2, NO=1 | Douleur thoracique : OUI=2, NON=1 | 1 ou 2 |\n",
    "| 16 | Lung Cancer: YES, NO | Cancer du poumon : OUI, NON | OUI/NON |\n",
    "\n",
    "## Notes\n",
    "- Les attributs 3-15 utilisent un codage binaire : 1=NON, 2=OUI\n",
    "- L'attribut 16 (Cancer du poumon) semble être la variable cible du dataset\n",
    "- Ce dataset paraît être conçu pour la prédiction du cancer du poumon basée sur des facteurs de risque et symptômes\n"
   ]
  },
  {
   "cell_type": "code",
   "execution_count": 2,
   "id": "2b6f7dba",
   "metadata": {},
   "outputs": [
    {
     "name": "stdout",
     "output_type": "stream",
     "text": [
      "\n",
      "┌------------------------------* Données brutes *------------------------------┐\n",
      "├─------- Shape: (20000, 16) - Colonnes:\n",
      "├─GENDER                    object    \n",
      "├─AGE                       float64   \n",
      "├─SMOKING                   object    \n",
      "├─YELLOW_FINGERS            object    \n",
      "├─ANXIETY                   object    \n",
      "├─PEER_PRESSURE             object    \n",
      "├─CHRONIC DISEASE           object    \n",
      "├─FATIGUE                   object    \n",
      "├─ALLERGY                   object    \n",
      "├─WHEEZING                  object    \n",
      "├─ALCOHOL CONSUMING         object    \n",
      "├─COUGHING                  object    \n",
      "├─SHORTNESS OF BREATH       object    \n",
      "├─SWALLOWING DIFFICULTY     object    \n",
      "├─CHEST PAIN                object    \n",
      "├─LUNG_CANCER               object    \n",
      "└------------------------------------------------------------------------------┘\n"
     ]
    }
   ],
   "source": [
    "raw_df = pd.read_csv(\"../data/raw/Lung Cancer - Dataset.csv\")\n",
    "quick_df_info(raw_df, \"Données brutes\")"
   ]
  },
  {
   "cell_type": "code",
   "execution_count": 5,
   "id": "a1be9169",
   "metadata": {},
   "outputs": [
    {
     "name": "stdout",
     "output_type": "stream",
     "text": [
      "⚠️  2131 valeur(s) manquante(s) détectée(s)\n",
      "<class 'pandas.core.frame.DataFrame'>\n",
      "RangeIndex: 20000 entries, 0 to 19999\n",
      "Data columns (total 16 columns):\n",
      " #   Column                 Non-Null Count  Dtype  \n",
      "---  ------                 --------------  -----  \n",
      " 0   GENDER                 20000 non-null  int64  \n",
      " 1   AGE                    19942 non-null  float64\n",
      " 2   SMOKING                19607 non-null  float64\n",
      " 3   YELLOW_FINGERS         20000 non-null  int64  \n",
      " 4   ANXIETY                20000 non-null  int64  \n",
      " 5   PEER_PRESSURE          20000 non-null  int64  \n",
      " 6   CHRONIC DISEASE        20000 non-null  int64  \n",
      " 7   FATIGUE                20000 non-null  int64  \n",
      " 8   ALLERGY                20000 non-null  int64  \n",
      " 9   WHEEZING               19057 non-null  float64\n",
      " 10  ALCOHOL CONSUMING      19348 non-null  float64\n",
      " 11  COUGHING               20000 non-null  int64  \n",
      " 12  SHORTNESS OF BREATH    19915 non-null  float64\n",
      " 13  SWALLOWING DIFFICULTY  20000 non-null  int64  \n",
      " 14  CHEST PAIN             20000 non-null  int64  \n",
      " 15  LUNG_CANCER            20000 non-null  int64  \n",
      "dtypes: float64(5), int64(11)\n",
      "memory usage: 2.4 MB\n"
     ]
    }
   ],
   "source": [
    "total_missing = raw_df.isnull().sum().sum()\n",
    "if total_missing == 0:\n",
    "    print(\"✅ Aucune valeur manquante détectée !\")\n",
    "else:\n",
    "    print(f\"⚠️  {total_missing} valeur(s) manquante(s) détectée(s)\")\n",
    "\n",
    "raw_df.info()"
   ]
  },
  {
   "cell_type": "code",
   "execution_count": 7,
   "id": "b8d29a24",
   "metadata": {},
   "outputs": [
    {
     "name": "stdout",
     "output_type": "stream",
     "text": [
      "<class 'pandas.core.frame.DataFrame'>\n",
      "Index: 17940 entries, 0 to 19999\n",
      "Data columns (total 16 columns):\n",
      " #   Column                 Non-Null Count  Dtype  \n",
      "---  ------                 --------------  -----  \n",
      " 0   GENDER                 17940 non-null  int64  \n",
      " 1   AGE                    17940 non-null  float64\n",
      " 2   SMOKING                17940 non-null  float64\n",
      " 3   YELLOW_FINGERS         17940 non-null  int64  \n",
      " 4   ANXIETY                17940 non-null  int64  \n",
      " 5   PEER_PRESSURE          17940 non-null  int64  \n",
      " 6   CHRONIC DISEASE        17940 non-null  int64  \n",
      " 7   FATIGUE                17940 non-null  int64  \n",
      " 8   ALLERGY                17940 non-null  int64  \n",
      " 9   WHEEZING               17940 non-null  float64\n",
      " 10  ALCOHOL CONSUMING      17940 non-null  float64\n",
      " 11  COUGHING               17940 non-null  int64  \n",
      " 12  SHORTNESS OF BREATH    17940 non-null  float64\n",
      " 13  SWALLOWING DIFFICULTY  17940 non-null  int64  \n",
      " 14  CHEST PAIN             17940 non-null  int64  \n",
      " 15  LUNG_CANCER            17940 non-null  int64  \n",
      "dtypes: float64(5), int64(11)\n",
      "memory usage: 2.3 MB\n"
     ]
    }
   ],
   "source": [
    "# Suppression des données manquantes\n",
    "raw_df.dropna(inplace=True) # Pas de données manquantes dans ce dataset\n",
    "raw_df.info()"
   ]
  },
  {
   "cell_type": "markdown",
   "id": "e5965ee9",
   "metadata": {},
   "source": [
    "### 🛠 Transformation des données en binaire \n",
    "- GENDER F=0, M=1\n",
    "- LUNG_CANCER NO=0, YES=1 \n",
    "- AUTRES 1=0, 2=1"
   ]
  },
  {
   "cell_type": "code",
   "execution_count": null,
   "id": "b7ca0576",
   "metadata": {},
   "outputs": [
    {
     "ename": "IntCastingNaNError",
     "evalue": "Cannot convert non-finite values (NA or inf) to integer",
     "output_type": "error",
     "traceback": [
      "\u001b[31m---------------------------------------------------------------------------\u001b[39m",
      "\u001b[31mIntCastingNaNError\u001b[39m                        Traceback (most recent call last)",
      "\u001b[36mCell\u001b[39m\u001b[36m \u001b[39m\u001b[32mIn[8]\u001b[39m\u001b[32m, line 5\u001b[39m\n\u001b[32m      3\u001b[39m cols = [x \u001b[38;5;28;01mfor\u001b[39;00m x \u001b[38;5;129;01min\u001b[39;00m cols \u001b[38;5;28;01mif\u001b[39;00m x \u001b[38;5;129;01mnot\u001b[39;00m \u001b[38;5;129;01min\u001b[39;00m delete]\n\u001b[32m      4\u001b[39m \u001b[38;5;28;01mfor\u001b[39;00m col \u001b[38;5;129;01min\u001b[39;00m cols:\n\u001b[32m----> \u001b[39m\u001b[32m5\u001b[39m     raw_df[col] = \u001b[43mraw_df\u001b[49m\u001b[43m[\u001b[49m\u001b[43mcol\u001b[49m\u001b[43m]\u001b[49m\u001b[43m.\u001b[49m\u001b[43mmap\u001b[49m\u001b[43m(\u001b[49m\u001b[43m{\u001b[49m\u001b[33;43m'\u001b[39;49m\u001b[33;43mNO\u001b[39;49m\u001b[33;43m'\u001b[39;49m\u001b[43m:\u001b[49m\u001b[43m \u001b[49m\u001b[32;43m0\u001b[39;49m\u001b[43m,\u001b[49m\u001b[43m \u001b[49m\u001b[33;43m'\u001b[39;49m\u001b[33;43mYES\u001b[39;49m\u001b[33;43m'\u001b[39;49m\u001b[43m:\u001b[49m\u001b[43m \u001b[49m\u001b[32;43m1\u001b[39;49m\u001b[43m}\u001b[49m\u001b[43m)\u001b[49m\u001b[43m.\u001b[49m\u001b[43mastype\u001b[49m\u001b[43m(\u001b[49m\u001b[38;5;28;43mint\u001b[39;49m\u001b[43m)\u001b[49m\n\u001b[32m      6\u001b[39m raw_df[\u001b[33m\"\u001b[39m\u001b[33mGENDER\u001b[39m\u001b[33m\"\u001b[39m] = raw_df[\u001b[33m\"\u001b[39m\u001b[33mGENDER\u001b[39m\u001b[33m\"\u001b[39m].map({\u001b[33m\"\u001b[39m\u001b[33mF\u001b[39m\u001b[33m\"\u001b[39m: \u001b[32m0\u001b[39m, \u001b[33m\"\u001b[39m\u001b[33mM\u001b[39m\u001b[33m\"\u001b[39m: \u001b[32m1\u001b[39m})\n\u001b[32m      7\u001b[39m raw_df[\u001b[33m\"\u001b[39m\u001b[33mLUNG_CANCER\u001b[39m\u001b[33m\"\u001b[39m] = raw_df[\u001b[33m\"\u001b[39m\u001b[33mLUNG_CANCER\u001b[39m\u001b[33m\"\u001b[39m].map({\u001b[33m\"\u001b[39m\u001b[33mNO\u001b[39m\u001b[33m\"\u001b[39m: \u001b[32m0\u001b[39m, \u001b[33m\"\u001b[39m\u001b[33mYES\u001b[39m\u001b[33m\"\u001b[39m: \u001b[32m1\u001b[39m})\n",
      "\u001b[36mFile \u001b[39m\u001b[32m~/Documents/projects/openclassrooms/project6/.venv/lib/python3.13/site-packages/pandas/core/generic.py:6665\u001b[39m, in \u001b[36mNDFrame.astype\u001b[39m\u001b[34m(self, dtype, copy, errors)\u001b[39m\n\u001b[32m   6659\u001b[39m     results = [\n\u001b[32m   6660\u001b[39m         ser.astype(dtype, copy=copy, errors=errors) \u001b[38;5;28;01mfor\u001b[39;00m _, ser \u001b[38;5;129;01min\u001b[39;00m \u001b[38;5;28mself\u001b[39m.items()\n\u001b[32m   6661\u001b[39m     ]\n\u001b[32m   6663\u001b[39m \u001b[38;5;28;01melse\u001b[39;00m:\n\u001b[32m   6664\u001b[39m     \u001b[38;5;66;03m# else, only a single dtype is given\u001b[39;00m\n\u001b[32m-> \u001b[39m\u001b[32m6665\u001b[39m     new_data = \u001b[38;5;28;43mself\u001b[39;49m\u001b[43m.\u001b[49m\u001b[43m_mgr\u001b[49m\u001b[43m.\u001b[49m\u001b[43mastype\u001b[49m\u001b[43m(\u001b[49m\u001b[43mdtype\u001b[49m\u001b[43m=\u001b[49m\u001b[43mdtype\u001b[49m\u001b[43m,\u001b[49m\u001b[43m \u001b[49m\u001b[43mcopy\u001b[49m\u001b[43m=\u001b[49m\u001b[43mcopy\u001b[49m\u001b[43m,\u001b[49m\u001b[43m \u001b[49m\u001b[43merrors\u001b[49m\u001b[43m=\u001b[49m\u001b[43merrors\u001b[49m\u001b[43m)\u001b[49m\n\u001b[32m   6666\u001b[39m     res = \u001b[38;5;28mself\u001b[39m._constructor_from_mgr(new_data, axes=new_data.axes)\n\u001b[32m   6667\u001b[39m     \u001b[38;5;28;01mreturn\u001b[39;00m res.__finalize__(\u001b[38;5;28mself\u001b[39m, method=\u001b[33m\"\u001b[39m\u001b[33mastype\u001b[39m\u001b[33m\"\u001b[39m)\n",
      "\u001b[36mFile \u001b[39m\u001b[32m~/Documents/projects/openclassrooms/project6/.venv/lib/python3.13/site-packages/pandas/core/internals/managers.py:449\u001b[39m, in \u001b[36mBaseBlockManager.astype\u001b[39m\u001b[34m(self, dtype, copy, errors)\u001b[39m\n\u001b[32m    446\u001b[39m \u001b[38;5;28;01melif\u001b[39;00m using_copy_on_write():\n\u001b[32m    447\u001b[39m     copy = \u001b[38;5;28;01mFalse\u001b[39;00m\n\u001b[32m--> \u001b[39m\u001b[32m449\u001b[39m \u001b[38;5;28;01mreturn\u001b[39;00m \u001b[38;5;28;43mself\u001b[39;49m\u001b[43m.\u001b[49m\u001b[43mapply\u001b[49m\u001b[43m(\u001b[49m\n\u001b[32m    450\u001b[39m \u001b[43m    \u001b[49m\u001b[33;43m\"\u001b[39;49m\u001b[33;43mastype\u001b[39;49m\u001b[33;43m\"\u001b[39;49m\u001b[43m,\u001b[49m\n\u001b[32m    451\u001b[39m \u001b[43m    \u001b[49m\u001b[43mdtype\u001b[49m\u001b[43m=\u001b[49m\u001b[43mdtype\u001b[49m\u001b[43m,\u001b[49m\n\u001b[32m    452\u001b[39m \u001b[43m    \u001b[49m\u001b[43mcopy\u001b[49m\u001b[43m=\u001b[49m\u001b[43mcopy\u001b[49m\u001b[43m,\u001b[49m\n\u001b[32m    453\u001b[39m \u001b[43m    \u001b[49m\u001b[43merrors\u001b[49m\u001b[43m=\u001b[49m\u001b[43merrors\u001b[49m\u001b[43m,\u001b[49m\n\u001b[32m    454\u001b[39m \u001b[43m    \u001b[49m\u001b[43musing_cow\u001b[49m\u001b[43m=\u001b[49m\u001b[43musing_copy_on_write\u001b[49m\u001b[43m(\u001b[49m\u001b[43m)\u001b[49m\u001b[43m,\u001b[49m\n\u001b[32m    455\u001b[39m \u001b[43m\u001b[49m\u001b[43m)\u001b[49m\n",
      "\u001b[36mFile \u001b[39m\u001b[32m~/Documents/projects/openclassrooms/project6/.venv/lib/python3.13/site-packages/pandas/core/internals/managers.py:363\u001b[39m, in \u001b[36mBaseBlockManager.apply\u001b[39m\u001b[34m(self, f, align_keys, **kwargs)\u001b[39m\n\u001b[32m    361\u001b[39m         applied = b.apply(f, **kwargs)\n\u001b[32m    362\u001b[39m     \u001b[38;5;28;01melse\u001b[39;00m:\n\u001b[32m--> \u001b[39m\u001b[32m363\u001b[39m         applied = \u001b[38;5;28;43mgetattr\u001b[39;49m\u001b[43m(\u001b[49m\u001b[43mb\u001b[49m\u001b[43m,\u001b[49m\u001b[43m \u001b[49m\u001b[43mf\u001b[49m\u001b[43m)\u001b[49m\u001b[43m(\u001b[49m\u001b[43m*\u001b[49m\u001b[43m*\u001b[49m\u001b[43mkwargs\u001b[49m\u001b[43m)\u001b[49m\n\u001b[32m    364\u001b[39m     result_blocks = extend_blocks(applied, result_blocks)\n\u001b[32m    366\u001b[39m out = \u001b[38;5;28mtype\u001b[39m(\u001b[38;5;28mself\u001b[39m).from_blocks(result_blocks, \u001b[38;5;28mself\u001b[39m.axes)\n",
      "\u001b[36mFile \u001b[39m\u001b[32m~/Documents/projects/openclassrooms/project6/.venv/lib/python3.13/site-packages/pandas/core/internals/blocks.py:784\u001b[39m, in \u001b[36mBlock.astype\u001b[39m\u001b[34m(self, dtype, copy, errors, using_cow, squeeze)\u001b[39m\n\u001b[32m    781\u001b[39m         \u001b[38;5;28;01mraise\u001b[39;00m \u001b[38;5;167;01mValueError\u001b[39;00m(\u001b[33m\"\u001b[39m\u001b[33mCan not squeeze with more than one column.\u001b[39m\u001b[33m\"\u001b[39m)\n\u001b[32m    782\u001b[39m     values = values[\u001b[32m0\u001b[39m, :]  \u001b[38;5;66;03m# type: ignore[call-overload]\u001b[39;00m\n\u001b[32m--> \u001b[39m\u001b[32m784\u001b[39m new_values = \u001b[43mastype_array_safe\u001b[49m\u001b[43m(\u001b[49m\u001b[43mvalues\u001b[49m\u001b[43m,\u001b[49m\u001b[43m \u001b[49m\u001b[43mdtype\u001b[49m\u001b[43m,\u001b[49m\u001b[43m \u001b[49m\u001b[43mcopy\u001b[49m\u001b[43m=\u001b[49m\u001b[43mcopy\u001b[49m\u001b[43m,\u001b[49m\u001b[43m \u001b[49m\u001b[43merrors\u001b[49m\u001b[43m=\u001b[49m\u001b[43merrors\u001b[49m\u001b[43m)\u001b[49m\n\u001b[32m    786\u001b[39m new_values = maybe_coerce_values(new_values)\n\u001b[32m    788\u001b[39m refs = \u001b[38;5;28;01mNone\u001b[39;00m\n",
      "\u001b[36mFile \u001b[39m\u001b[32m~/Documents/projects/openclassrooms/project6/.venv/lib/python3.13/site-packages/pandas/core/dtypes/astype.py:237\u001b[39m, in \u001b[36mastype_array_safe\u001b[39m\u001b[34m(values, dtype, copy, errors)\u001b[39m\n\u001b[32m    234\u001b[39m     dtype = dtype.numpy_dtype\n\u001b[32m    236\u001b[39m \u001b[38;5;28;01mtry\u001b[39;00m:\n\u001b[32m--> \u001b[39m\u001b[32m237\u001b[39m     new_values = \u001b[43mastype_array\u001b[49m\u001b[43m(\u001b[49m\u001b[43mvalues\u001b[49m\u001b[43m,\u001b[49m\u001b[43m \u001b[49m\u001b[43mdtype\u001b[49m\u001b[43m,\u001b[49m\u001b[43m \u001b[49m\u001b[43mcopy\u001b[49m\u001b[43m=\u001b[49m\u001b[43mcopy\u001b[49m\u001b[43m)\u001b[49m\n\u001b[32m    238\u001b[39m \u001b[38;5;28;01mexcept\u001b[39;00m (\u001b[38;5;167;01mValueError\u001b[39;00m, \u001b[38;5;167;01mTypeError\u001b[39;00m):\n\u001b[32m    239\u001b[39m     \u001b[38;5;66;03m# e.g. _astype_nansafe can fail on object-dtype of strings\u001b[39;00m\n\u001b[32m    240\u001b[39m     \u001b[38;5;66;03m#  trying to convert to float\u001b[39;00m\n\u001b[32m    241\u001b[39m     \u001b[38;5;28;01mif\u001b[39;00m errors == \u001b[33m\"\u001b[39m\u001b[33mignore\u001b[39m\u001b[33m\"\u001b[39m:\n",
      "\u001b[36mFile \u001b[39m\u001b[32m~/Documents/projects/openclassrooms/project6/.venv/lib/python3.13/site-packages/pandas/core/dtypes/astype.py:182\u001b[39m, in \u001b[36mastype_array\u001b[39m\u001b[34m(values, dtype, copy)\u001b[39m\n\u001b[32m    179\u001b[39m     values = values.astype(dtype, copy=copy)\n\u001b[32m    181\u001b[39m \u001b[38;5;28;01melse\u001b[39;00m:\n\u001b[32m--> \u001b[39m\u001b[32m182\u001b[39m     values = \u001b[43m_astype_nansafe\u001b[49m\u001b[43m(\u001b[49m\u001b[43mvalues\u001b[49m\u001b[43m,\u001b[49m\u001b[43m \u001b[49m\u001b[43mdtype\u001b[49m\u001b[43m,\u001b[49m\u001b[43m \u001b[49m\u001b[43mcopy\u001b[49m\u001b[43m=\u001b[49m\u001b[43mcopy\u001b[49m\u001b[43m)\u001b[49m\n\u001b[32m    184\u001b[39m \u001b[38;5;66;03m# in pandas we don't store numpy str dtypes, so convert to object\u001b[39;00m\n\u001b[32m    185\u001b[39m \u001b[38;5;28;01mif\u001b[39;00m \u001b[38;5;28misinstance\u001b[39m(dtype, np.dtype) \u001b[38;5;129;01mand\u001b[39;00m \u001b[38;5;28missubclass\u001b[39m(values.dtype.type, \u001b[38;5;28mstr\u001b[39m):\n",
      "\u001b[36mFile \u001b[39m\u001b[32m~/Documents/projects/openclassrooms/project6/.venv/lib/python3.13/site-packages/pandas/core/dtypes/astype.py:101\u001b[39m, in \u001b[36m_astype_nansafe\u001b[39m\u001b[34m(arr, dtype, copy, skipna)\u001b[39m\n\u001b[32m     96\u001b[39m     \u001b[38;5;28;01mreturn\u001b[39;00m lib.ensure_string_array(\n\u001b[32m     97\u001b[39m         arr, skipna=skipna, convert_na_value=\u001b[38;5;28;01mFalse\u001b[39;00m\n\u001b[32m     98\u001b[39m     ).reshape(shape)\n\u001b[32m    100\u001b[39m \u001b[38;5;28;01melif\u001b[39;00m np.issubdtype(arr.dtype, np.floating) \u001b[38;5;129;01mand\u001b[39;00m dtype.kind \u001b[38;5;129;01min\u001b[39;00m \u001b[33m\"\u001b[39m\u001b[33miu\u001b[39m\u001b[33m\"\u001b[39m:\n\u001b[32m--> \u001b[39m\u001b[32m101\u001b[39m     \u001b[38;5;28;01mreturn\u001b[39;00m \u001b[43m_astype_float_to_int_nansafe\u001b[49m\u001b[43m(\u001b[49m\u001b[43marr\u001b[49m\u001b[43m,\u001b[49m\u001b[43m \u001b[49m\u001b[43mdtype\u001b[49m\u001b[43m,\u001b[49m\u001b[43m \u001b[49m\u001b[43mcopy\u001b[49m\u001b[43m)\u001b[49m\n\u001b[32m    103\u001b[39m \u001b[38;5;28;01melif\u001b[39;00m arr.dtype == \u001b[38;5;28mobject\u001b[39m:\n\u001b[32m    104\u001b[39m     \u001b[38;5;66;03m# if we have a datetime/timedelta array of objects\u001b[39;00m\n\u001b[32m    105\u001b[39m     \u001b[38;5;66;03m# then coerce to datetime64[ns] and use DatetimeArray.astype\u001b[39;00m\n\u001b[32m    107\u001b[39m     \u001b[38;5;28;01mif\u001b[39;00m lib.is_np_dtype(dtype, \u001b[33m\"\u001b[39m\u001b[33mM\u001b[39m\u001b[33m\"\u001b[39m):\n",
      "\u001b[36mFile \u001b[39m\u001b[32m~/Documents/projects/openclassrooms/project6/.venv/lib/python3.13/site-packages/pandas/core/dtypes/astype.py:145\u001b[39m, in \u001b[36m_astype_float_to_int_nansafe\u001b[39m\u001b[34m(values, dtype, copy)\u001b[39m\n\u001b[32m    141\u001b[39m \u001b[38;5;250m\u001b[39m\u001b[33;03m\"\"\"\u001b[39;00m\n\u001b[32m    142\u001b[39m \u001b[33;03mastype with a check preventing converting NaN to an meaningless integer value.\u001b[39;00m\n\u001b[32m    143\u001b[39m \u001b[33;03m\"\"\"\u001b[39;00m\n\u001b[32m    144\u001b[39m \u001b[38;5;28;01mif\u001b[39;00m \u001b[38;5;129;01mnot\u001b[39;00m np.isfinite(values).all():\n\u001b[32m--> \u001b[39m\u001b[32m145\u001b[39m     \u001b[38;5;28;01mraise\u001b[39;00m IntCastingNaNError(\n\u001b[32m    146\u001b[39m         \u001b[33m\"\u001b[39m\u001b[33mCannot convert non-finite values (NA or inf) to integer\u001b[39m\u001b[33m\"\u001b[39m\n\u001b[32m    147\u001b[39m     )\n\u001b[32m    148\u001b[39m \u001b[38;5;28;01mif\u001b[39;00m dtype.kind == \u001b[33m\"\u001b[39m\u001b[33mu\u001b[39m\u001b[33m\"\u001b[39m:\n\u001b[32m    149\u001b[39m     \u001b[38;5;66;03m# GH#45151\u001b[39;00m\n\u001b[32m    150\u001b[39m     \u001b[38;5;28;01mif\u001b[39;00m \u001b[38;5;129;01mnot\u001b[39;00m (values >= \u001b[32m0\u001b[39m).all():\n",
      "\u001b[31mIntCastingNaNError\u001b[39m: Cannot convert non-finite values (NA or inf) to integer"
     ]
    }
   ],
   "source": [
    "cols = raw_df.columns.tolist()\n",
    "delete = [\"LUNG_CANCER\", \"GENDER\", \"AGE\"]\n",
    "cols = [x for x in cols if x not in delete]\n",
    "for col in cols:\n",
    "    raw_df[col] = raw_df[col].map({'NO': 0, 'YES': 1})\n",
    "raw_df[\"GENDER\"] = raw_df[\"GENDER\"].map({\"F\": 0, \"M\": 1})\n",
    "raw_df[\"LUNG_CANCER\"] = raw_df[\"LUNG_CANCER\"].map({\"NO\": 0, \"YES\": 1})\n",
    "#raw_df.drop(raw_df.columns[0], axis=1, inplace=True)  \n",
    "raw_df.head()"
   ]
  },
  {
   "cell_type": "markdown",
   "id": "bb2e1ef9",
   "metadata": {},
   "source": [
    "### 🧽 Sauvegarde du JDD nettoyé"
   ]
  },
  {
   "cell_type": "code",
   "execution_count": 4,
   "id": "e727a155",
   "metadata": {},
   "outputs": [],
   "source": [
    "raw_df.to_csv(\"../data/processed/survey_lung_cancer_clean.csv\", index=False)"
   ]
  }
 ],
 "metadata": {
  "kernelspec": {
   "display_name": "project6",
   "language": "python",
   "name": "python3"
  },
  "language_info": {
   "codemirror_mode": {
    "name": "ipython",
    "version": 3
   },
   "file_extension": ".py",
   "mimetype": "text/x-python",
   "name": "python",
   "nbconvert_exporter": "python",
   "pygments_lexer": "ipython3",
   "version": "3.13.5"
  }
 },
 "nbformat": 4,
 "nbformat_minor": 5
}
